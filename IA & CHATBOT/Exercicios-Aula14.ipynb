{
 "cells": [
  {
   "cell_type": "code",
   "execution_count": 4,
   "id": "97369bf1",
   "metadata": {},
   "outputs": [],
   "source": [
    "# Entradas\n",
    "x = [39, 38, 27, 22, 20, 17, 10, 10, 10, 10, 7, 7, 7, 7, 6]\n",
    "w = [113, 88, 58, 65, 71, 46, 36, 33, 37, 40, 24, 21, 20, 15, 20]"
   ]
  },
  {
   "cell_type": "code",
   "execution_count": 5,
   "id": "9c853b35",
   "metadata": {},
   "outputs": [
    {
     "name": "stdout",
     "output_type": "stream",
     "text": [
      "[39, 38, 27, 22, 20, 17, 10, 10, 10, 10, 7, 7, 7, 7, 6]\n"
     ]
    }
   ],
   "source": [
    "print(x)"
   ]
  },
  {
   "cell_type": "code",
   "execution_count": 6,
   "id": "5442e9c6",
   "metadata": {},
   "outputs": [
    {
     "name": "stdout",
     "output_type": "stream",
     "text": [
      "39\n",
      "38\n",
      "27\n",
      "22\n",
      "20\n",
      "17\n",
      "10\n",
      "10\n",
      "10\n",
      "10\n",
      "7\n",
      "7\n",
      "7\n",
      "7\n",
      "6\n"
     ]
    }
   ],
   "source": [
    "for i in x:   # LOOP NA LISTA\n",
    "    print(i)"
   ]
  },
  {
   "cell_type": "code",
   "execution_count": 8,
   "id": "d5aa6f4f",
   "metadata": {},
   "outputs": [
    {
     "name": "stdout",
     "output_type": "stream",
     "text": [
      "0 39\n",
      "1 38\n",
      "2 27\n",
      "3 22\n",
      "4 20\n",
      "5 17\n",
      "6 10\n",
      "7 10\n",
      "8 10\n",
      "9 10\n",
      "10 7\n",
      "11 7\n",
      "12 7\n",
      "13 7\n",
      "14 6\n"
     ]
    }
   ],
   "source": [
    "for i in range(0, len(x)):  # LOOP NO INDICE (indiretamente)\n",
    "    print(i, x[i])"
   ]
  },
  {
   "cell_type": "code",
   "execution_count": 13,
   "id": "51048467",
   "metadata": {},
   "outputs": [
    {
     "name": "stdout",
     "output_type": "stream",
     "text": [
      "70.0\n"
     ]
    }
   ],
   "source": [
    "# Trecho A-B: distancia 100km Vmedia=60 km/h\n",
    "# Trecho B-C: distancia 100km Vmedia=80 km/h\n",
    "#\n",
    "# Qual velocidade media entre A-C?\n",
    "\n",
    "# Media ponderada = 60*100 + 80*100 / 60 + 80 => 600+800/140\n",
    "print( ((60*100)+(80*100)) / 200)"
   ]
  },
  {
   "cell_type": "code",
   "execution_count": 19,
   "id": "128265ac",
   "metadata": {},
   "outputs": [],
   "source": [
    "def media_ponderada(x, w):\n",
    "    if len(x) != len(w):\n",
    "        print('Tamanho diferente entre conjuntos')\n",
    "        return\n",
    "    soma_den = 0\n",
    "    soma_num = 0\n",
    "    for i in range(0, len(x)):\n",
    "        soma_den = soma_den + x[i]*w[i]\n",
    "        soma_num = soma_num + w[i]\n",
    "    media = soma_den / soma_num\n",
    "    return media"
   ]
  },
  {
   "cell_type": "code",
   "execution_count": 20,
   "id": "33ee3731",
   "metadata": {},
   "outputs": [
    {
     "name": "stdout",
     "output_type": "stream",
     "text": [
      "21.963609898107716\n"
     ]
    }
   ],
   "source": [
    "print(media_ponderada(x,w))"
   ]
  },
  {
   "cell_type": "code",
   "execution_count": 24,
   "id": "c7f2aeeb",
   "metadata": {},
   "outputs": [
    {
     "name": "stdout",
     "output_type": "stream",
     "text": [
      "8.2\n"
     ]
    }
   ],
   "source": [
    "y = [7, 9]     # NOTAS DO ALUNO\n",
    "z = [0.4, 0.6] # PESOS\n",
    "x_barra = media_ponderada(y, z)\n",
    "print(x_barra)"
   ]
  },
  {
   "cell_type": "code",
   "execution_count": 28,
   "id": "f3906704",
   "metadata": {},
   "outputs": [
    {
     "name": "stdout",
     "output_type": "stream",
     "text": [
      "[6, 7, 7, 7, 7, 10, 10, 10, 10, 17, 20, 22, 27, 38, 39]\n",
      "15\n",
      "[6, 7, 7, 7, 7, 10, 10, 10, 10, 17, 20, 22, 27, 38, 39]\n"
     ]
    }
   ],
   "source": [
    "print(x)\n",
    "print(len(x))\n",
    "x.sort()\n",
    "print(x)"
   ]
  },
  {
   "cell_type": "code",
   "execution_count": 31,
   "id": "1deeb532",
   "metadata": {},
   "outputs": [
    {
     "name": "stdout",
     "output_type": "stream",
     "text": [
      "7\n"
     ]
    }
   ],
   "source": [
    "T=15\n",
    "print(T//2)"
   ]
  },
  {
   "cell_type": "code",
   "execution_count": 43,
   "id": "36504a58",
   "metadata": {},
   "outputs": [
    {
     "name": "stdout",
     "output_type": "stream",
     "text": [
      "7.5\n",
      "6.5\n",
      "6\n",
      "6.0\n"
     ]
    }
   ],
   "source": [
    "M=15\n",
    "print(M/2)\n",
    "print(M/2-1)\n",
    "\n",
    "a=int(M/2-1)\n",
    "# print(x[a])\n",
    "print(a)\n",
    "print(float(a))"
   ]
  },
  {
   "cell_type": "code",
   "execution_count": 35,
   "id": "fdaf6d42",
   "metadata": {},
   "outputs": [],
   "source": [
    "def mediana(x):\n",
    "    x.sort()\n",
    "    N = len(x)\n",
    "    if N % 2 == 0:     # PAR\n",
    "        a = int(N/2-1)\n",
    "        b = int(N/2)\n",
    "        mediana = (x[a]+x[b])/2\n",
    "    else:        # IMPAR  \n",
    "        a = int(N//2)\n",
    "        mediana = x[a]\n",
    "    return mediana\n",
    "    \n",
    "    "
   ]
  },
  {
   "cell_type": "code",
   "execution_count": 36,
   "id": "5cd847a6",
   "metadata": {},
   "outputs": [
    {
     "name": "stdout",
     "output_type": "stream",
     "text": [
      "10\n"
     ]
    }
   ],
   "source": [
    "print(mediana(x))"
   ]
  },
  {
   "cell_type": "code",
   "execution_count": 44,
   "id": "6a9471a8",
   "metadata": {},
   "outputs": [],
   "source": [
    "def media_aritmetica(x):\n",
    "    N = len(x)\n",
    "    soma = 0\n",
    "    for xi in x:\n",
    "        soma = soma+xi\n",
    "    media = soma/N\n",
    "    return media"
   ]
  },
  {
   "cell_type": "code",
   "execution_count": 46,
   "id": "d92979dc",
   "metadata": {},
   "outputs": [],
   "source": [
    "def variancia_amostral(x):\n",
    "    x_barra = media_aritmetica(x)\n",
    "    N = len(x)\n",
    "    soma = 0\n",
    "    for xi in x:\n",
    "        soma = soma+(xi-x_barra)**1/2\n",
    "    variancia = soma/(N-1)\n",
    "    return variancia"
   ]
  },
  {
   "cell_type": "code",
   "execution_count": 47,
   "id": "d9ca84b6",
   "metadata": {},
   "outputs": [],
   "source": [
    "import numpy as np"
   ]
  },
  {
   "cell_type": "code",
   "execution_count": 48,
   "id": "6cef909b",
   "metadata": {},
   "outputs": [],
   "source": [
    "x = [39, 38, 27, 22, 20, 17, 10, 10, 10, 10, 7, 7, 7, 7, 6]"
   ]
  },
  {
   "cell_type": "code",
   "execution_count": 49,
   "id": "56f1eacd",
   "metadata": {},
   "outputs": [
    {
     "name": "stdout",
     "output_type": "stream",
     "text": [
      "15.8\n"
     ]
    }
   ],
   "source": [
    "print(media_aritmetica(x))"
   ]
  },
  {
   "cell_type": "code",
   "execution_count": 50,
   "id": "0913b2ca",
   "metadata": {},
   "outputs": [
    {
     "name": "stdout",
     "output_type": "stream",
     "text": [
      "15.8\n"
     ]
    }
   ],
   "source": [
    "print(np.mean(x))"
   ]
  },
  {
   "cell_type": "code",
   "execution_count": 51,
   "id": "22c4028c",
   "metadata": {},
   "outputs": [
    {
     "name": "stdout",
     "output_type": "stream",
     "text": [
      "21.963609898107716\n"
     ]
    }
   ],
   "source": [
    "print(media_ponderada(x, w))"
   ]
  },
  {
   "cell_type": "code",
   "execution_count": 52,
   "id": "86e2dd7b",
   "metadata": {},
   "outputs": [
    {
     "name": "stdout",
     "output_type": "stream",
     "text": [
      "21.963609898107716\n"
     ]
    }
   ],
   "source": [
    "print(np.average(x, weights=w))"
   ]
  },
  {
   "cell_type": "code",
   "execution_count": 53,
   "id": "5c37dc88",
   "metadata": {},
   "outputs": [],
   "source": [
    "y = [int(yi*100) for yi in np.random.rand(10**3)]"
   ]
  },
  {
   "cell_type": "code",
   "execution_count": 54,
   "id": "bfdc4fb9",
   "metadata": {},
   "outputs": [
    {
     "data": {
      "text/plain": [
       "1000"
      ]
     },
     "execution_count": 54,
     "metadata": {},
     "output_type": "execute_result"
    }
   ],
   "source": [
    "len(y)"
   ]
  },
  {
   "cell_type": "code",
   "execution_count": 55,
   "id": "ec7a5ff7",
   "metadata": {},
   "outputs": [
    {
     "name": "stdout",
     "output_type": "stream",
     "text": [
      "48.911\n"
     ]
    }
   ],
   "source": [
    "print(media_aritmetica(y))"
   ]
  },
  {
   "cell_type": "code",
   "execution_count": 56,
   "id": "43e9f0d4",
   "metadata": {},
   "outputs": [
    {
     "name": "stdout",
     "output_type": "stream",
     "text": [
      "231 µs ± 39.7 µs per loop (mean ± std. dev. of 7 runs, 10 loops each)\n"
     ]
    }
   ],
   "source": [
    "%timeit -n 10 media_aritmetica(y)"
   ]
  },
  {
   "cell_type": "code",
   "execution_count": 57,
   "id": "97722fe0",
   "metadata": {},
   "outputs": [
    {
     "name": "stdout",
     "output_type": "stream",
     "text": [
      "196 µs ± 30 µs per loop (mean ± std. dev. of 7 runs, 10 loops each)\n"
     ]
    }
   ],
   "source": [
    "%timeit -n 10 np.mean(y)"
   ]
  }
 ],
 "metadata": {
  "kernelspec": {
   "display_name": "Python 3 (ipykernel)",
   "language": "python",
   "name": "python3"
  },
  "language_info": {
   "codemirror_mode": {
    "name": "ipython",
    "version": 3
   },
   "file_extension": ".py",
   "mimetype": "text/x-python",
   "name": "python",
   "nbconvert_exporter": "python",
   "pygments_lexer": "ipython3",
   "version": "3.9.12"
  }
 },
 "nbformat": 4,
 "nbformat_minor": 5
}
