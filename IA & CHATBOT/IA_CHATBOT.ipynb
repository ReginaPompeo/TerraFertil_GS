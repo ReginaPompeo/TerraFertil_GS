{
 "cells": [
  {
   "cell_type": "markdown",
   "id": "4195ee65",
   "metadata": {},
   "source": [
    "## INTEGRANTES\n",
    "\n",
    "LEONARDO PAGANINI - RM96562,\n",
    "JHONN BRANDON - RM97305,\n",
    "REGINA POMPEU  - RM97032,\n",
    "MATHEUS LEITE - RM96893"
   ]
  },
  {
   "cell_type": "markdown",
   "id": "bc1e6ed8",
   "metadata": {},
   "source": [
    "## Importando as bibliotecas:"
   ]
  },
  {
   "cell_type": "code",
   "execution_count": 73,
   "id": "1d6d6c0e",
   "metadata": {},
   "outputs": [],
   "source": [
    "import pandas as pd\n",
    "import matplotlib.pyplot as plt\n",
    "import seaborn as sns\n",
    "import numpy as np\n",
    "from sklearn.datasets import fetch_openml\n",
    "from sklearn.model_selection import train_test_split"
   ]
  },
  {
   "cell_type": "markdown",
   "id": "60cc877f",
   "metadata": {},
   "source": [
    "## Importando e visualizando o dataset:"
   ]
  },
  {
   "cell_type": "markdown",
   "id": "e2593021",
   "metadata": {},
   "source": [
    "O dataset abaixo contem os dados do Relatório Global da Fome (GHI em inglês) em 129 países dos anos de 2014 até 2022.\n",
    "\n",
    "O GHI mede de 5 a 100, sendo 5 menor índice. Ou seja, no país praticamente não há pessoas passando fome. Já o 100 indica que no  quase toda a população do país está em situação de fome."
   ]
  },
  {
   "cell_type": "code",
   "execution_count": 2,
   "id": "2754c411",
   "metadata": {},
   "outputs": [
    {
     "data": {
      "text/html": [
       "<div>\n",
       "<style scoped>\n",
       "    .dataframe tbody tr th:only-of-type {\n",
       "        vertical-align: middle;\n",
       "    }\n",
       "\n",
       "    .dataframe tbody tr th {\n",
       "        vertical-align: top;\n",
       "    }\n",
       "\n",
       "    .dataframe thead th {\n",
       "        text-align: right;\n",
       "    }\n",
       "</style>\n",
       "<table border=\"1\" class=\"dataframe\">\n",
       "  <thead>\n",
       "    <tr style=\"text-align: right;\">\n",
       "      <th></th>\n",
       "      <th>Rank in 2022</th>\n",
       "      <th>Country</th>\n",
       "      <th>2000</th>\n",
       "      <th>2007</th>\n",
       "      <th>2014</th>\n",
       "      <th>2022</th>\n",
       "      <th>Absolute change</th>\n",
       "      <th>Percent change</th>\n",
       "    </tr>\n",
       "  </thead>\n",
       "  <tbody>\n",
       "    <tr>\n",
       "      <th>0</th>\n",
       "      <td>NaN</td>\n",
       "      <td>NaN</td>\n",
       "      <td>NaN</td>\n",
       "      <td>NaN</td>\n",
       "      <td>NaN</td>\n",
       "      <td>NaN</td>\n",
       "      <td>since 2014</td>\n",
       "      <td>since 2014</td>\n",
       "    </tr>\n",
       "    <tr>\n",
       "      <th>1</th>\n",
       "      <td>1.0</td>\n",
       "      <td>Belarus</td>\n",
       "      <td>&lt;5</td>\n",
       "      <td>&lt;5</td>\n",
       "      <td>&lt;5</td>\n",
       "      <td>&lt;5</td>\n",
       "      <td>0</td>\n",
       "      <td>0</td>\n",
       "    </tr>\n",
       "    <tr>\n",
       "      <th>2</th>\n",
       "      <td>1.0</td>\n",
       "      <td>Bosnia and Herzegovina</td>\n",
       "      <td>9.3</td>\n",
       "      <td>6.6</td>\n",
       "      <td>&lt;5</td>\n",
       "      <td>&lt;5</td>\n",
       "      <td>0</td>\n",
       "      <td>0</td>\n",
       "    </tr>\n",
       "    <tr>\n",
       "      <th>3</th>\n",
       "      <td>1.0</td>\n",
       "      <td>Chile</td>\n",
       "      <td>&lt;5</td>\n",
       "      <td>&lt;5</td>\n",
       "      <td>&lt;5</td>\n",
       "      <td>&lt;5</td>\n",
       "      <td>0</td>\n",
       "      <td>0</td>\n",
       "    </tr>\n",
       "    <tr>\n",
       "      <th>4</th>\n",
       "      <td>1.0</td>\n",
       "      <td>China</td>\n",
       "      <td>13.3</td>\n",
       "      <td>7.8</td>\n",
       "      <td>&lt;5</td>\n",
       "      <td>&lt;5</td>\n",
       "      <td>0</td>\n",
       "      <td>0</td>\n",
       "    </tr>\n",
       "    <tr>\n",
       "      <th>...</th>\n",
       "      <td>...</td>\n",
       "      <td>...</td>\n",
       "      <td>...</td>\n",
       "      <td>...</td>\n",
       "      <td>...</td>\n",
       "      <td>...</td>\n",
       "      <td>...</td>\n",
       "      <td>...</td>\n",
       "    </tr>\n",
       "    <tr>\n",
       "      <th>125</th>\n",
       "      <td>121.0</td>\n",
       "      <td>Yemen</td>\n",
       "      <td>41.3</td>\n",
       "      <td>38.4</td>\n",
       "      <td>41.7</td>\n",
       "      <td>45.1</td>\n",
       "      <td>3.4</td>\n",
       "      <td>8.2</td>\n",
       "    </tr>\n",
       "    <tr>\n",
       "      <th>126</th>\n",
       "      <td>121.0</td>\n",
       "      <td>Burundi</td>\n",
       "      <td>99</td>\n",
       "      <td>99</td>\n",
       "      <td>99</td>\n",
       "      <td>49.935-49.9</td>\n",
       "      <td>0</td>\n",
       "      <td>0</td>\n",
       "    </tr>\n",
       "    <tr>\n",
       "      <th>127</th>\n",
       "      <td>121.0</td>\n",
       "      <td>Somalia</td>\n",
       "      <td>99</td>\n",
       "      <td>99</td>\n",
       "      <td>99</td>\n",
       "      <td>49.935-49.9</td>\n",
       "      <td>0</td>\n",
       "      <td>0</td>\n",
       "    </tr>\n",
       "    <tr>\n",
       "      <th>128</th>\n",
       "      <td>121.0</td>\n",
       "      <td>South Sudan</td>\n",
       "      <td>99</td>\n",
       "      <td>99</td>\n",
       "      <td>99</td>\n",
       "      <td>49.935-49.9</td>\n",
       "      <td>0</td>\n",
       "      <td>0</td>\n",
       "    </tr>\n",
       "    <tr>\n",
       "      <th>129</th>\n",
       "      <td>121.0</td>\n",
       "      <td>Syria</td>\n",
       "      <td>99</td>\n",
       "      <td>99</td>\n",
       "      <td>99</td>\n",
       "      <td>49.935-49.9</td>\n",
       "      <td>0</td>\n",
       "      <td>0</td>\n",
       "    </tr>\n",
       "  </tbody>\n",
       "</table>\n",
       "<p>130 rows × 8 columns</p>\n",
       "</div>"
      ],
      "text/plain": [
       "     Rank in 2022                 Country  2000  2007  2014         2022  \\\n",
       "0             NaN                     NaN   NaN   NaN   NaN          NaN   \n",
       "1             1.0                 Belarus    <5    <5    <5           <5   \n",
       "2             1.0  Bosnia and Herzegovina   9.3   6.6    <5           <5   \n",
       "3             1.0                   Chile    <5    <5    <5           <5   \n",
       "4             1.0                   China  13.3   7.8    <5           <5   \n",
       "..            ...                     ...   ...   ...   ...          ...   \n",
       "125         121.0                   Yemen  41.3  38.4  41.7         45.1   \n",
       "126         121.0                 Burundi    99    99    99  49.935-49.9   \n",
       "127         121.0                 Somalia    99    99    99  49.935-49.9   \n",
       "128         121.0             South Sudan    99    99    99  49.935-49.9   \n",
       "129         121.0                   Syria    99    99    99  49.935-49.9   \n",
       "\n",
       "    Absolute change Percent change  \n",
       "0        since 2014     since 2014  \n",
       "1                 0              0  \n",
       "2                 0              0  \n",
       "3                 0              0  \n",
       "4                 0              0  \n",
       "..              ...            ...  \n",
       "125             3.4            8.2  \n",
       "126               0              0  \n",
       "127               0              0  \n",
       "128               0              0  \n",
       "129               0              0  \n",
       "\n",
       "[130 rows x 8 columns]"
      ]
     },
     "execution_count": 2,
     "metadata": {},
     "output_type": "execute_result"
    }
   ],
   "source": [
    "dados_fome_df = pd.read_csv('Dataset.csv', encoding='latin-1')\n",
    "dados_fome_df"
   ]
  },
  {
   "cell_type": "markdown",
   "id": "bb4eee07",
   "metadata": {},
   "source": [
    "Na tabela acima temos os 4 países melhores colocados, com índice 5. Já os 5 ultimos colocados estão com indice 49."
   ]
  },
  {
   "cell_type": "markdown",
   "id": "dbc82909",
   "metadata": {},
   "source": [
    "###### Vamos verificar quais os tipo de dados de cada label:"
   ]
  },
  {
   "cell_type": "code",
   "execution_count": 3,
   "id": "bf9f5756",
   "metadata": {},
   "outputs": [
    {
     "name": "stdout",
     "output_type": "stream",
     "text": [
      "<class 'pandas.core.frame.DataFrame'>\n",
      "RangeIndex: 130 entries, 0 to 129\n",
      "Data columns (total 8 columns):\n",
      " #   Column           Non-Null Count  Dtype  \n",
      "---  ------           --------------  -----  \n",
      " 0   Rank in 2022     129 non-null    float64\n",
      " 1   Country          129 non-null    object \n",
      " 2   2000             129 non-null    object \n",
      " 3   2007             129 non-null    object \n",
      " 4   2014             129 non-null    object \n",
      " 5   2022             129 non-null    object \n",
      " 6   Absolute change  130 non-null    object \n",
      " 7   Percent change   130 non-null    object \n",
      "dtypes: float64(1), object(7)\n",
      "memory usage: 8.2+ KB\n"
     ]
    }
   ],
   "source": [
    "dados_fome_df.info()"
   ]
  },
  {
   "cell_type": "markdown",
   "id": "a9a61f40",
   "metadata": {},
   "source": [
    "###### Vemos que apenas a label \"Rank in 2022\" tem o dado float. Os dados restantes são do tipo \"object\"."
   ]
  },
  {
   "cell_type": "markdown",
   "id": "cd3823d7",
   "metadata": {},
   "source": [
    "Iremos fazer uma análise apenas dos anos de 2014 até 2022, portanto, iremos excluir as colunas dos outros anos"
   ]
  },
  {
   "cell_type": "code",
   "execution_count": 4,
   "id": "43e2b6cc",
   "metadata": {},
   "outputs": [
    {
     "data": {
      "text/html": [
       "<div>\n",
       "<style scoped>\n",
       "    .dataframe tbody tr th:only-of-type {\n",
       "        vertical-align: middle;\n",
       "    }\n",
       "\n",
       "    .dataframe tbody tr th {\n",
       "        vertical-align: top;\n",
       "    }\n",
       "\n",
       "    .dataframe thead th {\n",
       "        text-align: right;\n",
       "    }\n",
       "</style>\n",
       "<table border=\"1\" class=\"dataframe\">\n",
       "  <thead>\n",
       "    <tr style=\"text-align: right;\">\n",
       "      <th></th>\n",
       "      <th>Rank in 2022</th>\n",
       "      <th>Country</th>\n",
       "      <th>2014</th>\n",
       "      <th>2022</th>\n",
       "      <th>Absolute change</th>\n",
       "      <th>Percent change</th>\n",
       "    </tr>\n",
       "  </thead>\n",
       "  <tbody>\n",
       "    <tr>\n",
       "      <th>0</th>\n",
       "      <td>NaN</td>\n",
       "      <td>NaN</td>\n",
       "      <td>NaN</td>\n",
       "      <td>NaN</td>\n",
       "      <td>since 2014</td>\n",
       "      <td>since 2014</td>\n",
       "    </tr>\n",
       "    <tr>\n",
       "      <th>1</th>\n",
       "      <td>1.0</td>\n",
       "      <td>Belarus</td>\n",
       "      <td>&lt;5</td>\n",
       "      <td>&lt;5</td>\n",
       "      <td>0</td>\n",
       "      <td>0</td>\n",
       "    </tr>\n",
       "    <tr>\n",
       "      <th>2</th>\n",
       "      <td>1.0</td>\n",
       "      <td>Bosnia and Herzegovina</td>\n",
       "      <td>&lt;5</td>\n",
       "      <td>&lt;5</td>\n",
       "      <td>0</td>\n",
       "      <td>0</td>\n",
       "    </tr>\n",
       "    <tr>\n",
       "      <th>3</th>\n",
       "      <td>1.0</td>\n",
       "      <td>Chile</td>\n",
       "      <td>&lt;5</td>\n",
       "      <td>&lt;5</td>\n",
       "      <td>0</td>\n",
       "      <td>0</td>\n",
       "    </tr>\n",
       "    <tr>\n",
       "      <th>4</th>\n",
       "      <td>1.0</td>\n",
       "      <td>China</td>\n",
       "      <td>&lt;5</td>\n",
       "      <td>&lt;5</td>\n",
       "      <td>0</td>\n",
       "      <td>0</td>\n",
       "    </tr>\n",
       "    <tr>\n",
       "      <th>...</th>\n",
       "      <td>...</td>\n",
       "      <td>...</td>\n",
       "      <td>...</td>\n",
       "      <td>...</td>\n",
       "      <td>...</td>\n",
       "      <td>...</td>\n",
       "    </tr>\n",
       "    <tr>\n",
       "      <th>125</th>\n",
       "      <td>121.0</td>\n",
       "      <td>Yemen</td>\n",
       "      <td>41.7</td>\n",
       "      <td>45.1</td>\n",
       "      <td>3.4</td>\n",
       "      <td>8.2</td>\n",
       "    </tr>\n",
       "    <tr>\n",
       "      <th>126</th>\n",
       "      <td>121.0</td>\n",
       "      <td>Burundi</td>\n",
       "      <td>99</td>\n",
       "      <td>49.935-49.9</td>\n",
       "      <td>0</td>\n",
       "      <td>0</td>\n",
       "    </tr>\n",
       "    <tr>\n",
       "      <th>127</th>\n",
       "      <td>121.0</td>\n",
       "      <td>Somalia</td>\n",
       "      <td>99</td>\n",
       "      <td>49.935-49.9</td>\n",
       "      <td>0</td>\n",
       "      <td>0</td>\n",
       "    </tr>\n",
       "    <tr>\n",
       "      <th>128</th>\n",
       "      <td>121.0</td>\n",
       "      <td>South Sudan</td>\n",
       "      <td>99</td>\n",
       "      <td>49.935-49.9</td>\n",
       "      <td>0</td>\n",
       "      <td>0</td>\n",
       "    </tr>\n",
       "    <tr>\n",
       "      <th>129</th>\n",
       "      <td>121.0</td>\n",
       "      <td>Syria</td>\n",
       "      <td>99</td>\n",
       "      <td>49.935-49.9</td>\n",
       "      <td>0</td>\n",
       "      <td>0</td>\n",
       "    </tr>\n",
       "  </tbody>\n",
       "</table>\n",
       "<p>130 rows × 6 columns</p>\n",
       "</div>"
      ],
      "text/plain": [
       "     Rank in 2022                 Country  2014         2022 Absolute change  \\\n",
       "0             NaN                     NaN   NaN          NaN      since 2014   \n",
       "1             1.0                 Belarus    <5           <5               0   \n",
       "2             1.0  Bosnia and Herzegovina    <5           <5               0   \n",
       "3             1.0                   Chile    <5           <5               0   \n",
       "4             1.0                   China    <5           <5               0   \n",
       "..            ...                     ...   ...          ...             ...   \n",
       "125         121.0                   Yemen  41.7         45.1             3.4   \n",
       "126         121.0                 Burundi    99  49.935-49.9               0   \n",
       "127         121.0                 Somalia    99  49.935-49.9               0   \n",
       "128         121.0             South Sudan    99  49.935-49.9               0   \n",
       "129         121.0                   Syria    99  49.935-49.9               0   \n",
       "\n",
       "    Percent change  \n",
       "0       since 2014  \n",
       "1                0  \n",
       "2                0  \n",
       "3                0  \n",
       "4                0  \n",
       "..             ...  \n",
       "125            8.2  \n",
       "126              0  \n",
       "127              0  \n",
       "128              0  \n",
       "129              0  \n",
       "\n",
       "[130 rows x 6 columns]"
      ]
     },
     "execution_count": 4,
     "metadata": {},
     "output_type": "execute_result"
    }
   ],
   "source": [
    "dados_fome_df = dados_fome_df.drop(\"2000\", axis='columns')\n",
    "dados_fome_df = dados_fome_df.drop(\"2007\", axis='columns')\n",
    "\n",
    "dados_fome_df"
   ]
  },
  {
   "cell_type": "markdown",
   "id": "83e782f8",
   "metadata": {},
   "source": [
    "###### Agora vamos verificar quantos valores nulos existem nas colunas:"
   ]
  },
  {
   "cell_type": "code",
   "execution_count": 5,
   "id": "c967f0e7",
   "metadata": {},
   "outputs": [
    {
     "data": {
      "text/plain": [
       "Rank in 2022       1\n",
       "Country            1\n",
       "2014               1\n",
       "2022               1\n",
       "Absolute change    0\n",
       "Percent change     0\n",
       "dtype: int64"
      ]
     },
     "execution_count": 5,
     "metadata": {},
     "output_type": "execute_result"
    }
   ],
   "source": [
    "dados_fome_df.isnull().sum()"
   ]
  },
  {
   "cell_type": "markdown",
   "id": "1020bdf5",
   "metadata": {},
   "source": [
    "###### Como podemos observar, existe apenas um valor nulo nas colunas Rank in 2022, Country, 2014, 2022. Portanto, vamos exclui-los:"
   ]
  },
  {
   "cell_type": "code",
   "execution_count": 6,
   "id": "a710c138",
   "metadata": {},
   "outputs": [],
   "source": [
    "#Excluindo valores nulos\n",
    "dados_fome_df = dados_fome_df.dropna()"
   ]
  },
  {
   "cell_type": "code",
   "execution_count": 7,
   "id": "160836a3",
   "metadata": {},
   "outputs": [
    {
     "data": {
      "text/plain": [
       "Rank in 2022       0\n",
       "Country            0\n",
       "2014               0\n",
       "2022               0\n",
       "Absolute change    0\n",
       "Percent change     0\n",
       "dtype: int64"
      ]
     },
     "execution_count": 7,
     "metadata": {},
     "output_type": "execute_result"
    }
   ],
   "source": [
    "#Verificando se a exclusão funcionou:\n",
    "dados_fome_df.isnull().sum()"
   ]
  },
  {
   "cell_type": "markdown",
   "id": "45399b63",
   "metadata": {},
   "source": [
    "###### Precisamos converter os dados dos das colunas numericas para \"float\" para isso teremos os passos abaixo:"
   ]
  },
  {
   "cell_type": "markdown",
   "id": "a7f8073b",
   "metadata": {},
   "source": [
    "  1. Substituir os caracteres que não podem ser lidos como float. No caso estamos substituindo o simbolo '<' por vazio(''):"
   ]
  },
  {
   "cell_type": "code",
   "execution_count": 8,
   "id": "c5364b01",
   "metadata": {},
   "outputs": [],
   "source": [
    "dados_fome_df = dados_fome_df.replace('<5','5')"
   ]
  },
  {
   "cell_type": "markdown",
   "id": "f8112125",
   "metadata": {},
   "source": [
    "2. Verificando a tabela com a substituição feita:"
   ]
  },
  {
   "cell_type": "code",
   "execution_count": 9,
   "id": "062adb9b",
   "metadata": {
    "scrolled": false
   },
   "outputs": [
    {
     "data": {
      "text/html": [
       "<div>\n",
       "<style scoped>\n",
       "    .dataframe tbody tr th:only-of-type {\n",
       "        vertical-align: middle;\n",
       "    }\n",
       "\n",
       "    .dataframe tbody tr th {\n",
       "        vertical-align: top;\n",
       "    }\n",
       "\n",
       "    .dataframe thead th {\n",
       "        text-align: right;\n",
       "    }\n",
       "</style>\n",
       "<table border=\"1\" class=\"dataframe\">\n",
       "  <thead>\n",
       "    <tr style=\"text-align: right;\">\n",
       "      <th></th>\n",
       "      <th>Rank in 2022</th>\n",
       "      <th>Country</th>\n",
       "      <th>2014</th>\n",
       "      <th>2022</th>\n",
       "      <th>Absolute change</th>\n",
       "      <th>Percent change</th>\n",
       "    </tr>\n",
       "  </thead>\n",
       "  <tbody>\n",
       "    <tr>\n",
       "      <th>1</th>\n",
       "      <td>1.0</td>\n",
       "      <td>Belarus</td>\n",
       "      <td>5</td>\n",
       "      <td>5</td>\n",
       "      <td>0</td>\n",
       "      <td>0</td>\n",
       "    </tr>\n",
       "    <tr>\n",
       "      <th>2</th>\n",
       "      <td>1.0</td>\n",
       "      <td>Bosnia and Herzegovina</td>\n",
       "      <td>5</td>\n",
       "      <td>5</td>\n",
       "      <td>0</td>\n",
       "      <td>0</td>\n",
       "    </tr>\n",
       "    <tr>\n",
       "      <th>3</th>\n",
       "      <td>1.0</td>\n",
       "      <td>Chile</td>\n",
       "      <td>5</td>\n",
       "      <td>5</td>\n",
       "      <td>0</td>\n",
       "      <td>0</td>\n",
       "    </tr>\n",
       "    <tr>\n",
       "      <th>4</th>\n",
       "      <td>1.0</td>\n",
       "      <td>China</td>\n",
       "      <td>5</td>\n",
       "      <td>5</td>\n",
       "      <td>0</td>\n",
       "      <td>0</td>\n",
       "    </tr>\n",
       "    <tr>\n",
       "      <th>5</th>\n",
       "      <td>1.0</td>\n",
       "      <td>Croatia</td>\n",
       "      <td>5</td>\n",
       "      <td>5</td>\n",
       "      <td>0</td>\n",
       "      <td>0</td>\n",
       "    </tr>\n",
       "    <tr>\n",
       "      <th>...</th>\n",
       "      <td>...</td>\n",
       "      <td>...</td>\n",
       "      <td>...</td>\n",
       "      <td>...</td>\n",
       "      <td>...</td>\n",
       "      <td>...</td>\n",
       "    </tr>\n",
       "    <tr>\n",
       "      <th>125</th>\n",
       "      <td>121.0</td>\n",
       "      <td>Yemen</td>\n",
       "      <td>41.7</td>\n",
       "      <td>45.1</td>\n",
       "      <td>3.4</td>\n",
       "      <td>8.2</td>\n",
       "    </tr>\n",
       "    <tr>\n",
       "      <th>126</th>\n",
       "      <td>121.0</td>\n",
       "      <td>Burundi</td>\n",
       "      <td>99</td>\n",
       "      <td>49.935-49.9</td>\n",
       "      <td>0</td>\n",
       "      <td>0</td>\n",
       "    </tr>\n",
       "    <tr>\n",
       "      <th>127</th>\n",
       "      <td>121.0</td>\n",
       "      <td>Somalia</td>\n",
       "      <td>99</td>\n",
       "      <td>49.935-49.9</td>\n",
       "      <td>0</td>\n",
       "      <td>0</td>\n",
       "    </tr>\n",
       "    <tr>\n",
       "      <th>128</th>\n",
       "      <td>121.0</td>\n",
       "      <td>South Sudan</td>\n",
       "      <td>99</td>\n",
       "      <td>49.935-49.9</td>\n",
       "      <td>0</td>\n",
       "      <td>0</td>\n",
       "    </tr>\n",
       "    <tr>\n",
       "      <th>129</th>\n",
       "      <td>121.0</td>\n",
       "      <td>Syria</td>\n",
       "      <td>99</td>\n",
       "      <td>49.935-49.9</td>\n",
       "      <td>0</td>\n",
       "      <td>0</td>\n",
       "    </tr>\n",
       "  </tbody>\n",
       "</table>\n",
       "<p>129 rows × 6 columns</p>\n",
       "</div>"
      ],
      "text/plain": [
       "     Rank in 2022                 Country  2014         2022 Absolute change  \\\n",
       "1             1.0                 Belarus     5            5               0   \n",
       "2             1.0  Bosnia and Herzegovina     5            5               0   \n",
       "3             1.0                   Chile     5            5               0   \n",
       "4             1.0                   China     5            5               0   \n",
       "5             1.0                 Croatia     5            5               0   \n",
       "..            ...                     ...   ...          ...             ...   \n",
       "125         121.0                   Yemen  41.7         45.1             3.4   \n",
       "126         121.0                 Burundi    99  49.935-49.9               0   \n",
       "127         121.0                 Somalia    99  49.935-49.9               0   \n",
       "128         121.0             South Sudan    99  49.935-49.9               0   \n",
       "129         121.0                   Syria    99  49.935-49.9               0   \n",
       "\n",
       "    Percent change  \n",
       "1                0  \n",
       "2                0  \n",
       "3                0  \n",
       "4                0  \n",
       "5                0  \n",
       "..             ...  \n",
       "125            8.2  \n",
       "126              0  \n",
       "127              0  \n",
       "128              0  \n",
       "129              0  \n",
       "\n",
       "[129 rows x 6 columns]"
      ]
     },
     "execution_count": 9,
     "metadata": {},
     "output_type": "execute_result"
    }
   ],
   "source": [
    "dados_fome_df"
   ]
  },
  {
   "cell_type": "markdown",
   "id": "2c19e3c1",
   "metadata": {},
   "source": [
    "###### Na tabela acima temos alguns dados que não tem como transformar em float, por isso faremos as seguintes substituições:\n",
    "###### * \"49.935-49.9\" para \"49.9\"\n",
    "###### * '34.920\\x9634.9' para '34.920'\n",
    "###### * '.7.5' para '7.5'\n",
    "###### * '10..6' para '10.6'\n"
   ]
  },
  {
   "cell_type": "code",
   "execution_count": 30,
   "id": "037c90c3",
   "metadata": {
    "scrolled": false
   },
   "outputs": [
    {
     "data": {
      "text/html": [
       "<div>\n",
       "<style scoped>\n",
       "    .dataframe tbody tr th:only-of-type {\n",
       "        vertical-align: middle;\n",
       "    }\n",
       "\n",
       "    .dataframe tbody tr th {\n",
       "        vertical-align: top;\n",
       "    }\n",
       "\n",
       "    .dataframe thead th {\n",
       "        text-align: right;\n",
       "    }\n",
       "</style>\n",
       "<table border=\"1\" class=\"dataframe\">\n",
       "  <thead>\n",
       "    <tr style=\"text-align: right;\">\n",
       "      <th></th>\n",
       "      <th>Rank in 2022</th>\n",
       "      <th>Country</th>\n",
       "      <th>2014</th>\n",
       "      <th>2022</th>\n",
       "      <th>Absolute change</th>\n",
       "      <th>Percent change</th>\n",
       "    </tr>\n",
       "  </thead>\n",
       "  <tbody>\n",
       "    <tr>\n",
       "      <th>1</th>\n",
       "      <td>1.0</td>\n",
       "      <td>Belarus</td>\n",
       "      <td>5.0</td>\n",
       "      <td>5.0</td>\n",
       "      <td>0</td>\n",
       "      <td>0.0</td>\n",
       "    </tr>\n",
       "    <tr>\n",
       "      <th>2</th>\n",
       "      <td>1.0</td>\n",
       "      <td>Bosnia and Herzegovina</td>\n",
       "      <td>5.0</td>\n",
       "      <td>5.0</td>\n",
       "      <td>0</td>\n",
       "      <td>0.0</td>\n",
       "    </tr>\n",
       "    <tr>\n",
       "      <th>3</th>\n",
       "      <td>1.0</td>\n",
       "      <td>Chile</td>\n",
       "      <td>5.0</td>\n",
       "      <td>5.0</td>\n",
       "      <td>0</td>\n",
       "      <td>0.0</td>\n",
       "    </tr>\n",
       "    <tr>\n",
       "      <th>4</th>\n",
       "      <td>1.0</td>\n",
       "      <td>China</td>\n",
       "      <td>5.0</td>\n",
       "      <td>5.0</td>\n",
       "      <td>0</td>\n",
       "      <td>0.0</td>\n",
       "    </tr>\n",
       "    <tr>\n",
       "      <th>5</th>\n",
       "      <td>1.0</td>\n",
       "      <td>Croatia</td>\n",
       "      <td>5.0</td>\n",
       "      <td>5.0</td>\n",
       "      <td>0</td>\n",
       "      <td>0.0</td>\n",
       "    </tr>\n",
       "    <tr>\n",
       "      <th>...</th>\n",
       "      <td>...</td>\n",
       "      <td>...</td>\n",
       "      <td>...</td>\n",
       "      <td>...</td>\n",
       "      <td>...</td>\n",
       "      <td>...</td>\n",
       "    </tr>\n",
       "    <tr>\n",
       "      <th>125</th>\n",
       "      <td>121.0</td>\n",
       "      <td>Yemen</td>\n",
       "      <td>41.7</td>\n",
       "      <td>45.1</td>\n",
       "      <td>3.4</td>\n",
       "      <td>8.2</td>\n",
       "    </tr>\n",
       "    <tr>\n",
       "      <th>126</th>\n",
       "      <td>121.0</td>\n",
       "      <td>Burundi</td>\n",
       "      <td>99.0</td>\n",
       "      <td>49.9</td>\n",
       "      <td>0</td>\n",
       "      <td>0.0</td>\n",
       "    </tr>\n",
       "    <tr>\n",
       "      <th>127</th>\n",
       "      <td>121.0</td>\n",
       "      <td>Somalia</td>\n",
       "      <td>99.0</td>\n",
       "      <td>49.9</td>\n",
       "      <td>0</td>\n",
       "      <td>0.0</td>\n",
       "    </tr>\n",
       "    <tr>\n",
       "      <th>128</th>\n",
       "      <td>121.0</td>\n",
       "      <td>South Sudan</td>\n",
       "      <td>99.0</td>\n",
       "      <td>49.9</td>\n",
       "      <td>0</td>\n",
       "      <td>0.0</td>\n",
       "    </tr>\n",
       "    <tr>\n",
       "      <th>129</th>\n",
       "      <td>121.0</td>\n",
       "      <td>Syria</td>\n",
       "      <td>99.0</td>\n",
       "      <td>49.9</td>\n",
       "      <td>0</td>\n",
       "      <td>0.0</td>\n",
       "    </tr>\n",
       "  </tbody>\n",
       "</table>\n",
       "<p>129 rows × 6 columns</p>\n",
       "</div>"
      ],
      "text/plain": [
       "     Rank in 2022                 Country  2014  2022 Absolute change  \\\n",
       "1             1.0                 Belarus   5.0   5.0               0   \n",
       "2             1.0  Bosnia and Herzegovina   5.0   5.0               0   \n",
       "3             1.0                   Chile   5.0   5.0               0   \n",
       "4             1.0                   China   5.0   5.0               0   \n",
       "5             1.0                 Croatia   5.0   5.0               0   \n",
       "..            ...                     ...   ...   ...             ...   \n",
       "125         121.0                   Yemen  41.7  45.1             3.4   \n",
       "126         121.0                 Burundi  99.0  49.9               0   \n",
       "127         121.0                 Somalia  99.0  49.9               0   \n",
       "128         121.0             South Sudan  99.0  49.9               0   \n",
       "129         121.0                   Syria  99.0  49.9               0   \n",
       "\n",
       "     Percent change  \n",
       "1               0.0  \n",
       "2               0.0  \n",
       "3               0.0  \n",
       "4               0.0  \n",
       "5               0.0  \n",
       "..              ...  \n",
       "125             8.2  \n",
       "126             0.0  \n",
       "127             0.0  \n",
       "128             0.0  \n",
       "129             0.0  \n",
       "\n",
       "[129 rows x 6 columns]"
      ]
     },
     "execution_count": 30,
     "metadata": {},
     "output_type": "execute_result"
    }
   ],
   "source": [
    "dados_fome_df = dados_fome_df.replace('49.935-49.9', '49.9')\n",
    "dados_fome_df = dados_fome_df.replace('34.920\\x9634.9','34.920')\n",
    "dados_fome_df = dados_fome_df.replace('.7.5','7.5')\n",
    "dados_fome_df = dados_fome_df.replace('10..6','10.6')\n",
    "\n",
    "dados_fome_df"
   ]
  },
  {
   "cell_type": "markdown",
   "id": "c58a684e",
   "metadata": {},
   "source": [
    "###### No dataset também temos o seguinte dado: \"34.920\\x9634.9\", com isso não conseguimos transformar o dado em float, por isso também vamos substituir pelo número \"34.920\".\n",
    "\n",
    "Realizar a substituição:"
   ]
  },
  {
   "cell_type": "markdown",
   "id": "27cf6e5c",
   "metadata": {},
   "source": [
    "Convertendo os valores \"Object\" em \"Float\":"
   ]
  },
  {
   "cell_type": "code",
   "execution_count": 33,
   "id": "fd5b24a3",
   "metadata": {},
   "outputs": [],
   "source": [
    "dados_fome_df[['2014', '2022', 'Percent change', 'Absolute change']] = dados_fome_df[['2014', '2022', 'Percent change', 'Absolute change']].astype(float)\n"
   ]
  },
  {
   "cell_type": "code",
   "execution_count": 34,
   "id": "8187ff00",
   "metadata": {},
   "outputs": [
    {
     "data": {
      "text/plain": [
       "Rank in 2022       float64\n",
       "Country             object\n",
       "2014               float64\n",
       "2022               float64\n",
       "Absolute change    float64\n",
       "Percent change     float64\n",
       "dtype: object"
      ]
     },
     "execution_count": 34,
     "metadata": {},
     "output_type": "execute_result"
    }
   ],
   "source": [
    "dados_fome_df.dtypes"
   ]
  },
  {
   "cell_type": "markdown",
   "id": "19768573",
   "metadata": {},
   "source": [
    "Após todas as transformações, podemos seguir com os gráficos:"
   ]
  },
  {
   "cell_type": "markdown",
   "id": "7a38995b",
   "metadata": {},
   "source": [
    "##### 1. Grafico de barras exibindo o GHI de cada país em 2022 em ordem crescente"
   ]
  },
  {
   "cell_type": "code",
   "execution_count": 35,
   "id": "6c376c2b",
   "metadata": {},
   "outputs": [
    {
     "data": {
      "image/png": "[encoded data removed]",
      "text/plain": [
       "<Figure size 1440x720 with 1 Axes>"
      ]
     },
     "metadata": {
      "needs_background": "light"
     },
     "output_type": "display_data"
    }
   ],
   "source": [
    "sns.set_style(\"whitegrid\")\n",
    "\n",
    "plt.figure(figsize=(20, 10))\n",
    "sns.barplot(x=\"Country\", y=\"2022\", data=dados_fome_df)\n",
    "plt.xlabel(\"País\")\n",
    "plt.ylabel(\"Valores em 2022\")\n",
    "plt.title(\"Valores em 2022 para cada país\")\n",
    "\n",
    "plt.xticks(rotation=90)\n",
    "\n",
    "plt.show()"
   ]
  },
  {
   "cell_type": "markdown",
   "id": "16975662",
   "metadata": {},
   "source": [
    "##### 2. Grafico de dispersão que mostra a relação entre os valores em 2014 e 2022 para cada país. Os países com pontos mais próximos à linha diagonal têm mudanças menores, enquanto os pontos mais distantes da linha diagonal indicam mudanças maiores.\n",
    "\n",
    "Notasse que há um agrumento entre os pontos mais abaixo do gráfico e uma tendencia na diagonal"
   ]
  },
  {
   "cell_type": "code",
   "execution_count": 40,
   "id": "5c4aa719",
   "metadata": {},
   "outputs": [
    {
     "data": {
      "image/png": "[encoded data removed]",
      "text/plain": [
       "<Figure size 1440x576 with 1 Axes>"
      ]
     },
     "metadata": {
      "needs_background": "light"
     },
     "output_type": "display_data"
    }
   ],
   "source": [
    "plt.figure(figsize=(20, 8))\n",
    "\n",
    "plt.scatter(dados_fome_df[\"2014\"], dados_fome_df[\"2022\"])\n",
    "\n",
    "plt.xlabel(\"Valores em 2014\")\n",
    "plt.ylabel(\"Valores em 2022\")\n",
    "plt.title(\"Relação entre Valores de 2014 e 2022 para cada país\")\n",
    "\n",
    "plt.show()"
   ]
  },
  {
   "cell_type": "markdown",
   "id": "61cad5c9",
   "metadata": {},
   "source": [
    "##### 3. Grafico de de barras que mostra a variação Percentual desde 2014. Os países com pontos próximos a zero tiveram pouca variação, enquanto os pontos mais afastados de zero indicam uma variação maior. Valores positivos representam um aumento desde 2014, enquanto valores negativos representam uma redução."
   ]
  },
  {
   "cell_type": "code",
   "execution_count": 39,
   "id": "4559e4a6",
   "metadata": {},
   "outputs": [
    {
     "data": {
      "image/png": "[encoded data removed]",
      "text/plain": [
       "<Figure size 2160x720 with 1 Axes>"
      ]
     },
     "metadata": {
      "needs_background": "light"
     },
     "output_type": "display_data"
    }
   ],
   "source": [
    "plt.figure(figsize=(30, 10))\n",
    "sns.barplot(x=\"Country\", y=\"Percent change\", data=dados_fome_df)\n",
    "\n",
    "plt.xlabel(\"País\")\n",
    "plt.ylabel(\"Variação Percentual (%)\")\n",
    "plt.title(\"Variação Percentual desde 2014 até 2022 para cada país\")\n",
    "\n",
    "plt.xticks(rotation=90)\n",
    "\n",
    "plt.show()"
   ]
  },
  {
   "cell_type": "markdown",
   "id": "cd920c4d",
   "metadata": {},
   "source": [
    "###### Apresentando os dados com maior valor em cada coluna.\n",
    "\n",
    "Observa-se que em 2014 o indice estava em seu maior patamar, atingindo quase o topo que é 100. Já em 2022 o maior indice é de 49.9, praticamente metade de 2014. Entretanto a fome ainda atinge muitas pessoas, pois 49.9 ainda não é um bom indicativo."
   ]
  },
  {
   "cell_type": "code",
   "execution_count": 61,
   "id": "11de7fd2",
   "metadata": {},
   "outputs": [
    {
     "data": {
      "text/plain": [
       "2014                99.0\n",
       "2022                49.9\n",
       "Absolute change     11.8\n",
       "Percent change     145.7\n",
       "dtype: float64"
      ]
     },
     "execution_count": 61,
     "metadata": {},
     "output_type": "execute_result"
    }
   ],
   "source": [
    "dados_fome_df[['2014', '2022', 'Absolute change', 'Percent change']].max()"
   ]
  },
  {
   "cell_type": "markdown",
   "id": "74119c4c",
   "metadata": {},
   "source": [
    "###### Apresentando a média dos dados de cada coluna.\n",
    "\n",
    "Observa-se que de 2014 a 2022 a média do indice caiu em média 4 pontos. Entretanto 17.17 não pode ser considerado como o dado que atinge todos os paises, uma vez que a média baixa se da ao fato de haver muitos países listados e alguns com o indice minimo e outros com indice altissimo."
   ]
  },
  {
   "cell_type": "code",
   "execution_count": 62,
   "id": "5a1983b3",
   "metadata": {},
   "outputs": [
    {
     "data": {
      "text/plain": [
       "2014               21.639535\n",
       "2022               17.170388\n",
       "Absolute change    -0.949612\n",
       "Percent change     -4.055814\n",
       "dtype: float64"
      ]
     },
     "execution_count": 62,
     "metadata": {},
     "output_type": "execute_result"
    }
   ],
   "source": [
    "dados_fome_df[['2014', '2022', 'Absolute change', 'Percent change']].mean()"
   ]
  },
  {
   "cell_type": "markdown",
   "id": "5fab895b",
   "metadata": {},
   "source": [
    "###### Apresentando algumas estatisticas que podemos obter facilmente\n",
    "\n",
    "Podemos ver a média, o desvio padrão (std), os valores minimos, os quarts de 25%, 50%, 75% e os valores máximos de cada coluna"
   ]
  },
  {
   "cell_type": "code",
   "execution_count": 56,
   "id": "c592e38f",
   "metadata": {},
   "outputs": [
    {
     "data": {
      "text/html": [
       "<div>\n",
       "<style scoped>\n",
       "    .dataframe tbody tr th:only-of-type {\n",
       "        vertical-align: middle;\n",
       "    }\n",
       "\n",
       "    .dataframe tbody tr th {\n",
       "        vertical-align: top;\n",
       "    }\n",
       "\n",
       "    .dataframe thead th {\n",
       "        text-align: right;\n",
       "    }\n",
       "</style>\n",
       "<table border=\"1\" class=\"dataframe\">\n",
       "  <thead>\n",
       "    <tr style=\"text-align: right;\">\n",
       "      <th></th>\n",
       "      <th>2014</th>\n",
       "      <th>2022</th>\n",
       "      <th>Absolute change</th>\n",
       "      <th>Percent change</th>\n",
       "    </tr>\n",
       "  </thead>\n",
       "  <tbody>\n",
       "    <tr>\n",
       "      <th>count</th>\n",
       "      <td>129.000000</td>\n",
       "      <td>129.000000</td>\n",
       "      <td>129.000000</td>\n",
       "      <td>129.000000</td>\n",
       "    </tr>\n",
       "    <tr>\n",
       "      <th>mean</th>\n",
       "      <td>21.639535</td>\n",
       "      <td>17.170388</td>\n",
       "      <td>-0.949612</td>\n",
       "      <td>-4.055814</td>\n",
       "    </tr>\n",
       "    <tr>\n",
       "      <th>std</th>\n",
       "      <td>22.372236</td>\n",
       "      <td>11.811849</td>\n",
       "      <td>2.254271</td>\n",
       "      <td>17.987856</td>\n",
       "    </tr>\n",
       "    <tr>\n",
       "      <th>min</th>\n",
       "      <td>5.000000</td>\n",
       "      <td>5.000000</td>\n",
       "      <td>-6.700000</td>\n",
       "      <td>-38.000000</td>\n",
       "    </tr>\n",
       "    <tr>\n",
       "      <th>25%</th>\n",
       "      <td>7.400000</td>\n",
       "      <td>6.900000</td>\n",
       "      <td>-2.200000</td>\n",
       "      <td>-12.200000</td>\n",
       "    </tr>\n",
       "    <tr>\n",
       "      <th>50%</th>\n",
       "      <td>15.400000</td>\n",
       "      <td>13.600000</td>\n",
       "      <td>-0.500000</td>\n",
       "      <td>-2.500000</td>\n",
       "    </tr>\n",
       "    <tr>\n",
       "      <th>75%</th>\n",
       "      <td>26.500000</td>\n",
       "      <td>24.900000</td>\n",
       "      <td>0.000000</td>\n",
       "      <td>0.000000</td>\n",
       "    </tr>\n",
       "    <tr>\n",
       "      <th>max</th>\n",
       "      <td>99.000000</td>\n",
       "      <td>49.900000</td>\n",
       "      <td>11.800000</td>\n",
       "      <td>145.700000</td>\n",
       "    </tr>\n",
       "  </tbody>\n",
       "</table>\n",
       "</div>"
      ],
      "text/plain": [
       "             2014        2022  Absolute change  Percent change\n",
       "count  129.000000  129.000000       129.000000      129.000000\n",
       "mean    21.639535   17.170388        -0.949612       -4.055814\n",
       "std     22.372236   11.811849         2.254271       17.987856\n",
       "min      5.000000    5.000000        -6.700000      -38.000000\n",
       "25%      7.400000    6.900000        -2.200000      -12.200000\n",
       "50%     15.400000   13.600000        -0.500000       -2.500000\n",
       "75%     26.500000   24.900000         0.000000        0.000000\n",
       "max     99.000000   49.900000        11.800000      145.700000"
      ]
     },
     "execution_count": 56,
     "metadata": {},
     "output_type": "execute_result"
    }
   ],
   "source": [
    "dados_fome_df[['2014', '2022', 'Absolute change', 'Percent change']].describe()"
   ]
  },
  {
   "cell_type": "markdown",
   "id": "6ad76233",
   "metadata": {},
   "source": [
    "## Modelo Preditivo"
   ]
  },
  {
   "cell_type": "code",
   "execution_count": 65,
   "id": "8dc5bb7d",
   "metadata": {},
   "outputs": [],
   "source": [
    "banco_comida = pd.read_csv('live1.csv')"
   ]
  },
  {
   "cell_type": "code",
   "execution_count": 66,
   "id": "ffe31ef1",
   "metadata": {},
   "outputs": [
    {
     "data": {
      "text/html": [
       "<div>\n",
       "<style scoped>\n",
       "    .dataframe tbody tr th:only-of-type {\n",
       "        vertical-align: middle;\n",
       "    }\n",
       "\n",
       "    .dataframe tbody tr th {\n",
       "        vertical-align: top;\n",
       "    }\n",
       "\n",
       "    .dataframe thead th {\n",
       "        text-align: right;\n",
       "    }\n",
       "</style>\n",
       "<table border=\"1\" class=\"dataframe\">\n",
       "  <thead>\n",
       "    <tr style=\"text-align: right;\">\n",
       "      <th></th>\n",
       "      <th>Area</th>\n",
       "      <th>Item</th>\n",
       "      <th>Element</th>\n",
       "      <th>Year</th>\n",
       "      <th>Unit</th>\n",
       "      <th>Value</th>\n",
       "    </tr>\n",
       "  </thead>\n",
       "  <tbody>\n",
       "    <tr>\n",
       "      <th>0</th>\n",
       "      <td>Afghanistan</td>\n",
       "      <td>Asses</td>\n",
       "      <td>Stocks</td>\n",
       "      <td>1961</td>\n",
       "      <td>Head</td>\n",
       "      <td>1300000.0</td>\n",
       "    </tr>\n",
       "    <tr>\n",
       "      <th>1</th>\n",
       "      <td>Afghanistan</td>\n",
       "      <td>Asses</td>\n",
       "      <td>Stocks</td>\n",
       "      <td>1962</td>\n",
       "      <td>Head</td>\n",
       "      <td>851850.0</td>\n",
       "    </tr>\n",
       "    <tr>\n",
       "      <th>2</th>\n",
       "      <td>Afghanistan</td>\n",
       "      <td>Asses</td>\n",
       "      <td>Stocks</td>\n",
       "      <td>1963</td>\n",
       "      <td>Head</td>\n",
       "      <td>1001112.0</td>\n",
       "    </tr>\n",
       "    <tr>\n",
       "      <th>3</th>\n",
       "      <td>Afghanistan</td>\n",
       "      <td>Asses</td>\n",
       "      <td>Stocks</td>\n",
       "      <td>1964</td>\n",
       "      <td>Head</td>\n",
       "      <td>1150000.0</td>\n",
       "    </tr>\n",
       "    <tr>\n",
       "      <th>4</th>\n",
       "      <td>Afghanistan</td>\n",
       "      <td>Asses</td>\n",
       "      <td>Stocks</td>\n",
       "      <td>1965</td>\n",
       "      <td>Head</td>\n",
       "      <td>1300000.0</td>\n",
       "    </tr>\n",
       "    <tr>\n",
       "      <th>...</th>\n",
       "      <td>...</td>\n",
       "      <td>...</td>\n",
       "      <td>...</td>\n",
       "      <td>...</td>\n",
       "      <td>...</td>\n",
       "      <td>...</td>\n",
       "    </tr>\n",
       "    <tr>\n",
       "      <th>122453</th>\n",
       "      <td>Net Food Importing Developing Countries</td>\n",
       "      <td>Sheep</td>\n",
       "      <td>Stocks</td>\n",
       "      <td>2016</td>\n",
       "      <td>Head</td>\n",
       "      <td>364166482.0</td>\n",
       "    </tr>\n",
       "    <tr>\n",
       "      <th>122454</th>\n",
       "      <td>Net Food Importing Developing Countries</td>\n",
       "      <td>Sheep</td>\n",
       "      <td>Stocks</td>\n",
       "      <td>2017</td>\n",
       "      <td>Head</td>\n",
       "      <td>371357850.0</td>\n",
       "    </tr>\n",
       "    <tr>\n",
       "      <th>122455</th>\n",
       "      <td>Net Food Importing Developing Countries</td>\n",
       "      <td>Sheep</td>\n",
       "      <td>Stocks</td>\n",
       "      <td>2018</td>\n",
       "      <td>Head</td>\n",
       "      <td>377303293.0</td>\n",
       "    </tr>\n",
       "    <tr>\n",
       "      <th>122456</th>\n",
       "      <td>Net Food Importing Developing Countries</td>\n",
       "      <td>Sheep</td>\n",
       "      <td>Stocks</td>\n",
       "      <td>2019</td>\n",
       "      <td>Head</td>\n",
       "      <td>397970957.0</td>\n",
       "    </tr>\n",
       "    <tr>\n",
       "      <th>122457</th>\n",
       "      <td>Net Food Importing Developing Countries</td>\n",
       "      <td>Sheep</td>\n",
       "      <td>Stocks</td>\n",
       "      <td>2020</td>\n",
       "      <td>Head</td>\n",
       "      <td>406555086.0</td>\n",
       "    </tr>\n",
       "  </tbody>\n",
       "</table>\n",
       "<p>122458 rows × 6 columns</p>\n",
       "</div>"
      ],
      "text/plain": [
       "                                           Area   Item Element  Year  Unit  \\\n",
       "0                                   Afghanistan  Asses  Stocks  1961  Head   \n",
       "1                                   Afghanistan  Asses  Stocks  1962  Head   \n",
       "2                                   Afghanistan  Asses  Stocks  1963  Head   \n",
       "3                                   Afghanistan  Asses  Stocks  1964  Head   \n",
       "4                                   Afghanistan  Asses  Stocks  1965  Head   \n",
       "...                                         ...    ...     ...   ...   ...   \n",
       "122453  Net Food Importing Developing Countries  Sheep  Stocks  2016  Head   \n",
       "122454  Net Food Importing Developing Countries  Sheep  Stocks  2017  Head   \n",
       "122455  Net Food Importing Developing Countries  Sheep  Stocks  2018  Head   \n",
       "122456  Net Food Importing Developing Countries  Sheep  Stocks  2019  Head   \n",
       "122457  Net Food Importing Developing Countries  Sheep  Stocks  2020  Head   \n",
       "\n",
       "              Value  \n",
       "0         1300000.0  \n",
       "1          851850.0  \n",
       "2         1001112.0  \n",
       "3         1150000.0  \n",
       "4         1300000.0  \n",
       "...             ...  \n",
       "122453  364166482.0  \n",
       "122454  371357850.0  \n",
       "122455  377303293.0  \n",
       "122456  397970957.0  \n",
       "122457  406555086.0  \n",
       "\n",
       "[122458 rows x 6 columns]"
      ]
     },
     "execution_count": 66,
     "metadata": {},
     "output_type": "execute_result"
    }
   ],
   "source": [
    "banco_comida"
   ]
  },
  {
   "cell_type": "code",
   "execution_count": 70,
   "id": "a6ce620b",
   "metadata": {},
   "outputs": [
    {
     "name": "stdout",
     "output_type": "stream",
     "text": [
      "<class 'pandas.core.frame.DataFrame'>\n",
      "RangeIndex: 122458 entries, 0 to 122457\n",
      "Data columns (total 6 columns):\n",
      " #   Column   Non-Null Count   Dtype  \n",
      "---  ------   --------------   -----  \n",
      " 0   Area     122458 non-null  object \n",
      " 1   Item     122458 non-null  object \n",
      " 2   Element  122458 non-null  object \n",
      " 3   Year     122458 non-null  int64  \n",
      " 4   Unit     122458 non-null  object \n",
      " 5   Value    120194 non-null  float64\n",
      "dtypes: float64(1), int64(1), object(4)\n",
      "memory usage: 5.6+ MB\n"
     ]
    }
   ],
   "source": [
    "banco_comida.info()"
   ]
  },
  {
   "cell_type": "code",
   "execution_count": 94,
   "id": "ec05236f",
   "metadata": {},
   "outputs": [
    {
     "ename": "AttributeError",
     "evalue": "'function' object has no attribute 'dropna'",
     "output_type": "error",
     "traceback": [
      "\u001b[1;31m---------------------------------------------------------------------------\u001b[0m",
      "\u001b[1;31mAttributeError\u001b[0m                            Traceback (most recent call last)",
      "Input \u001b[1;32mIn [94]\u001b[0m, in \u001b[0;36m<cell line: 1>\u001b[1;34m()\u001b[0m\n\u001b[1;32m----> 1\u001b[0m banco_comida \u001b[38;5;241m=\u001b[39m \u001b[43mbanco_comida\u001b[49m\u001b[38;5;241;43m.\u001b[39;49m\u001b[43mdropna\u001b[49m\n\u001b[0;32m      3\u001b[0m banco_comida\n",
      "\u001b[1;31mAttributeError\u001b[0m: 'function' object has no attribute 'dropna'"
     ]
    }
   ],
   "source": [
    "banco_comida = banco_comida.dropna"
   ]
  },
  {
   "cell_type": "code",
   "execution_count": 95,
   "id": "cbad29fa",
   "metadata": {},
   "outputs": [
    {
     "data": {
      "text/plain": [
       "<bound method DataFrame.dropna of                                            Area   Item Element  Year  Unit  \\\n",
       "0                                   Afghanistan  Asses  Stocks  1961  Head   \n",
       "1                                   Afghanistan  Asses  Stocks  1962  Head   \n",
       "2                                   Afghanistan  Asses  Stocks  1963  Head   \n",
       "3                                   Afghanistan  Asses  Stocks  1964  Head   \n",
       "4                                   Afghanistan  Asses  Stocks  1965  Head   \n",
       "...                                         ...    ...     ...   ...   ...   \n",
       "122453  Net Food Importing Developing Countries  Sheep  Stocks  2016  Head   \n",
       "122454  Net Food Importing Developing Countries  Sheep  Stocks  2017  Head   \n",
       "122455  Net Food Importing Developing Countries  Sheep  Stocks  2018  Head   \n",
       "122456  Net Food Importing Developing Countries  Sheep  Stocks  2019  Head   \n",
       "122457  Net Food Importing Developing Countries  Sheep  Stocks  2020  Head   \n",
       "\n",
       "              Value  \n",
       "0         1300000.0  \n",
       "1          851850.0  \n",
       "2         1001112.0  \n",
       "3         1150000.0  \n",
       "4         1300000.0  \n",
       "...             ...  \n",
       "122453  364166482.0  \n",
       "122454  371357850.0  \n",
       "122455  377303293.0  \n",
       "122456  397970957.0  \n",
       "122457  406555086.0  \n",
       "\n",
       "[122458 rows x 6 columns]>"
      ]
     },
     "execution_count": 95,
     "metadata": {},
     "output_type": "execute_result"
    }
   ],
   "source": [
    "banco_comida"
   ]
  },
  {
   "cell_type": "code",
   "execution_count": 72,
   "id": "e5481515",
   "metadata": {},
   "outputs": [
    {
     "data": {
      "text/plain": [
       "<Axes: >"
      ]
     },
     "execution_count": 72,
     "metadata": {},
     "output_type": "execute_result"
    },
    {
     "data": {
      "image/png": "[encoded data removed]",
      "text/plain": [
       "<Figure size 432x288 with 2 Axes>"
      ]
     },
     "metadata": {
      "needs_background": "light"
     },
     "output_type": "display_data"
    }
   ],
   "source": [
    "sns.heatmap(banco_comida.corr())"
   ]
  },
  {
   "cell_type": "code",
   "execution_count": 74,
   "id": "f9a99e6c",
   "metadata": {},
   "outputs": [
    {
     "data": {
      "text/plain": [
       "122458"
      ]
     },
     "execution_count": 74,
     "metadata": {},
     "output_type": "execute_result"
    }
   ],
   "source": [
    "len(banco_comida)"
   ]
  },
  {
   "cell_type": "code",
   "execution_count": 88,
   "id": "350f3e03",
   "metadata": {},
   "outputs": [],
   "source": [
    "# Escolhendo as colunas preditivas e alvo\n",
    "x = banco_comida.drop(columns=[\"Area\", \"Item\", \"Element\", \"Unit\", \"Value\"])\n",
    "y = banco_comida['Value']\n",
    "\n",
    "# Dividindo conjunto de treinamento e conjunto de teste\n",
    "x_train, x_test, y_train, y_test = train_test_split(x, y, test_size = 0.2, random_state = 42)"
   ]
  },
  {
   "cell_type": "code",
   "execution_count": 89,
   "id": "6ab5b941",
   "metadata": {},
   "outputs": [
    {
     "data": {
      "text/plain": [
       "(97966, 24492, 97966, 24492)"
      ]
     },
     "execution_count": 89,
     "metadata": {},
     "output_type": "execute_result"
    }
   ],
   "source": [
    "len(x_train), len(x_test), len(y_train), len(y_test)"
   ]
  },
  {
   "cell_type": "code",
   "execution_count": 90,
   "id": "5282cd63",
   "metadata": {},
   "outputs": [],
   "source": [
    "from sklearn.linear_model import LinearRegression"
   ]
  },
  {
   "cell_type": "code",
   "execution_count": 96,
   "id": "671124f3",
   "metadata": {},
   "outputs": [
    {
     "ename": "ValueError",
     "evalue": "Input y contains NaN.",
     "output_type": "error",
     "traceback": [
      "\u001b[1;31m---------------------------------------------------------------------------\u001b[0m",
      "\u001b[1;31mValueError\u001b[0m                                Traceback (most recent call last)",
      "Input \u001b[1;32mIn [96]\u001b[0m, in \u001b[0;36m<cell line: 3>\u001b[1;34m()\u001b[0m\n\u001b[0;32m      1\u001b[0m lr \u001b[38;5;241m=\u001b[39m LinearRegression()\n\u001b[1;32m----> 3\u001b[0m \u001b[43mlr\u001b[49m\u001b[38;5;241;43m.\u001b[39;49m\u001b[43mfit\u001b[49m\u001b[43m(\u001b[49m\u001b[43mx_train\u001b[49m\u001b[43m,\u001b[49m\u001b[43my_train\u001b[49m\u001b[43m)\u001b[49m\n",
      "File \u001b[1;32mC:\\ProgramData\\Anaconda3\\lib\\site-packages\\sklearn\\linear_model\\_base.py:684\u001b[0m, in \u001b[0;36mLinearRegression.fit\u001b[1;34m(self, X, y, sample_weight)\u001b[0m\n\u001b[0;32m    680\u001b[0m n_jobs_ \u001b[38;5;241m=\u001b[39m \u001b[38;5;28mself\u001b[39m\u001b[38;5;241m.\u001b[39mn_jobs\n\u001b[0;32m    682\u001b[0m accept_sparse \u001b[38;5;241m=\u001b[39m \u001b[38;5;28;01mFalse\u001b[39;00m \u001b[38;5;28;01mif\u001b[39;00m \u001b[38;5;28mself\u001b[39m\u001b[38;5;241m.\u001b[39mpositive \u001b[38;5;28;01melse\u001b[39;00m [\u001b[38;5;124m\"\u001b[39m\u001b[38;5;124mcsr\u001b[39m\u001b[38;5;124m\"\u001b[39m, \u001b[38;5;124m\"\u001b[39m\u001b[38;5;124mcsc\u001b[39m\u001b[38;5;124m\"\u001b[39m, \u001b[38;5;124m\"\u001b[39m\u001b[38;5;124mcoo\u001b[39m\u001b[38;5;124m\"\u001b[39m]\n\u001b[1;32m--> 684\u001b[0m X, y \u001b[38;5;241m=\u001b[39m \u001b[38;5;28;43mself\u001b[39;49m\u001b[38;5;241;43m.\u001b[39;49m\u001b[43m_validate_data\u001b[49m\u001b[43m(\u001b[49m\n\u001b[0;32m    685\u001b[0m \u001b[43m    \u001b[49m\u001b[43mX\u001b[49m\u001b[43m,\u001b[49m\u001b[43m \u001b[49m\u001b[43my\u001b[49m\u001b[43m,\u001b[49m\u001b[43m \u001b[49m\u001b[43maccept_sparse\u001b[49m\u001b[38;5;241;43m=\u001b[39;49m\u001b[43maccept_sparse\u001b[49m\u001b[43m,\u001b[49m\u001b[43m \u001b[49m\u001b[43my_numeric\u001b[49m\u001b[38;5;241;43m=\u001b[39;49m\u001b[38;5;28;43;01mTrue\u001b[39;49;00m\u001b[43m,\u001b[49m\u001b[43m \u001b[49m\u001b[43mmulti_output\u001b[49m\u001b[38;5;241;43m=\u001b[39;49m\u001b[38;5;28;43;01mTrue\u001b[39;49;00m\n\u001b[0;32m    686\u001b[0m \u001b[43m\u001b[49m\u001b[43m)\u001b[49m\n\u001b[0;32m    688\u001b[0m sample_weight \u001b[38;5;241m=\u001b[39m _check_sample_weight(\n\u001b[0;32m    689\u001b[0m     sample_weight, X, dtype\u001b[38;5;241m=\u001b[39mX\u001b[38;5;241m.\u001b[39mdtype, only_non_negative\u001b[38;5;241m=\u001b[39m\u001b[38;5;28;01mTrue\u001b[39;00m\n\u001b[0;32m    690\u001b[0m )\n\u001b[0;32m    692\u001b[0m X, y, X_offset, y_offset, X_scale \u001b[38;5;241m=\u001b[39m _preprocess_data(\n\u001b[0;32m    693\u001b[0m     X,\n\u001b[0;32m    694\u001b[0m     y,\n\u001b[1;32m   (...)\u001b[0m\n\u001b[0;32m    698\u001b[0m     sample_weight\u001b[38;5;241m=\u001b[39msample_weight,\n\u001b[0;32m    699\u001b[0m )\n",
      "File \u001b[1;32mC:\\ProgramData\\Anaconda3\\lib\\site-packages\\sklearn\\base.py:596\u001b[0m, in \u001b[0;36mBaseEstimator._validate_data\u001b[1;34m(self, X, y, reset, validate_separately, **check_params)\u001b[0m\n\u001b[0;32m    594\u001b[0m         y \u001b[38;5;241m=\u001b[39m check_array(y, input_name\u001b[38;5;241m=\u001b[39m\u001b[38;5;124m\"\u001b[39m\u001b[38;5;124my\u001b[39m\u001b[38;5;124m\"\u001b[39m, \u001b[38;5;241m*\u001b[39m\u001b[38;5;241m*\u001b[39mcheck_y_params)\n\u001b[0;32m    595\u001b[0m     \u001b[38;5;28;01melse\u001b[39;00m:\n\u001b[1;32m--> 596\u001b[0m         X, y \u001b[38;5;241m=\u001b[39m check_X_y(X, y, \u001b[38;5;241m*\u001b[39m\u001b[38;5;241m*\u001b[39mcheck_params)\n\u001b[0;32m    597\u001b[0m     out \u001b[38;5;241m=\u001b[39m X, y\n\u001b[0;32m    599\u001b[0m \u001b[38;5;28;01mif\u001b[39;00m \u001b[38;5;129;01mnot\u001b[39;00m no_val_X \u001b[38;5;129;01mand\u001b[39;00m check_params\u001b[38;5;241m.\u001b[39mget(\u001b[38;5;124m\"\u001b[39m\u001b[38;5;124mensure_2d\u001b[39m\u001b[38;5;124m\"\u001b[39m, \u001b[38;5;28;01mTrue\u001b[39;00m):\n",
      "File \u001b[1;32mC:\\ProgramData\\Anaconda3\\lib\\site-packages\\sklearn\\utils\\validation.py:1090\u001b[0m, in \u001b[0;36mcheck_X_y\u001b[1;34m(X, y, accept_sparse, accept_large_sparse, dtype, order, copy, force_all_finite, ensure_2d, allow_nd, multi_output, ensure_min_samples, ensure_min_features, y_numeric, estimator)\u001b[0m\n\u001b[0;32m   1070\u001b[0m     \u001b[38;5;28;01mraise\u001b[39;00m \u001b[38;5;167;01mValueError\u001b[39;00m(\n\u001b[0;32m   1071\u001b[0m         \u001b[38;5;124mf\u001b[39m\u001b[38;5;124m\"\u001b[39m\u001b[38;5;132;01m{\u001b[39;00mestimator_name\u001b[38;5;132;01m}\u001b[39;00m\u001b[38;5;124m requires y to be passed, but the target y is None\u001b[39m\u001b[38;5;124m\"\u001b[39m\n\u001b[0;32m   1072\u001b[0m     )\n\u001b[0;32m   1074\u001b[0m X \u001b[38;5;241m=\u001b[39m check_array(\n\u001b[0;32m   1075\u001b[0m     X,\n\u001b[0;32m   1076\u001b[0m     accept_sparse\u001b[38;5;241m=\u001b[39maccept_sparse,\n\u001b[1;32m   (...)\u001b[0m\n\u001b[0;32m   1087\u001b[0m     input_name\u001b[38;5;241m=\u001b[39m\u001b[38;5;124m\"\u001b[39m\u001b[38;5;124mX\u001b[39m\u001b[38;5;124m\"\u001b[39m,\n\u001b[0;32m   1088\u001b[0m )\n\u001b[1;32m-> 1090\u001b[0m y \u001b[38;5;241m=\u001b[39m \u001b[43m_check_y\u001b[49m\u001b[43m(\u001b[49m\u001b[43my\u001b[49m\u001b[43m,\u001b[49m\u001b[43m \u001b[49m\u001b[43mmulti_output\u001b[49m\u001b[38;5;241;43m=\u001b[39;49m\u001b[43mmulti_output\u001b[49m\u001b[43m,\u001b[49m\u001b[43m \u001b[49m\u001b[43my_numeric\u001b[49m\u001b[38;5;241;43m=\u001b[39;49m\u001b[43my_numeric\u001b[49m\u001b[43m,\u001b[49m\u001b[43m \u001b[49m\u001b[43mestimator\u001b[49m\u001b[38;5;241;43m=\u001b[39;49m\u001b[43mestimator\u001b[49m\u001b[43m)\u001b[49m\n\u001b[0;32m   1092\u001b[0m check_consistent_length(X, y)\n\u001b[0;32m   1094\u001b[0m \u001b[38;5;28;01mreturn\u001b[39;00m X, y\n",
      "File \u001b[1;32mC:\\ProgramData\\Anaconda3\\lib\\site-packages\\sklearn\\utils\\validation.py:1100\u001b[0m, in \u001b[0;36m_check_y\u001b[1;34m(y, multi_output, y_numeric, estimator)\u001b[0m\n\u001b[0;32m   1098\u001b[0m \u001b[38;5;124;03m\"\"\"Isolated part of check_X_y dedicated to y validation\"\"\"\u001b[39;00m\n\u001b[0;32m   1099\u001b[0m \u001b[38;5;28;01mif\u001b[39;00m multi_output:\n\u001b[1;32m-> 1100\u001b[0m     y \u001b[38;5;241m=\u001b[39m \u001b[43mcheck_array\u001b[49m\u001b[43m(\u001b[49m\n\u001b[0;32m   1101\u001b[0m \u001b[43m        \u001b[49m\u001b[43my\u001b[49m\u001b[43m,\u001b[49m\n\u001b[0;32m   1102\u001b[0m \u001b[43m        \u001b[49m\u001b[43maccept_sparse\u001b[49m\u001b[38;5;241;43m=\u001b[39;49m\u001b[38;5;124;43m\"\u001b[39;49m\u001b[38;5;124;43mcsr\u001b[39;49m\u001b[38;5;124;43m\"\u001b[39;49m\u001b[43m,\u001b[49m\n\u001b[0;32m   1103\u001b[0m \u001b[43m        \u001b[49m\u001b[43mforce_all_finite\u001b[49m\u001b[38;5;241;43m=\u001b[39;49m\u001b[38;5;28;43;01mTrue\u001b[39;49;00m\u001b[43m,\u001b[49m\n\u001b[0;32m   1104\u001b[0m \u001b[43m        \u001b[49m\u001b[43mensure_2d\u001b[49m\u001b[38;5;241;43m=\u001b[39;49m\u001b[38;5;28;43;01mFalse\u001b[39;49;00m\u001b[43m,\u001b[49m\n\u001b[0;32m   1105\u001b[0m \u001b[43m        \u001b[49m\u001b[43mdtype\u001b[49m\u001b[38;5;241;43m=\u001b[39;49m\u001b[38;5;28;43;01mNone\u001b[39;49;00m\u001b[43m,\u001b[49m\n\u001b[0;32m   1106\u001b[0m \u001b[43m        \u001b[49m\u001b[43minput_name\u001b[49m\u001b[38;5;241;43m=\u001b[39;49m\u001b[38;5;124;43m\"\u001b[39;49m\u001b[38;5;124;43my\u001b[39;49m\u001b[38;5;124;43m\"\u001b[39;49m\u001b[43m,\u001b[49m\n\u001b[0;32m   1107\u001b[0m \u001b[43m        \u001b[49m\u001b[43mestimator\u001b[49m\u001b[38;5;241;43m=\u001b[39;49m\u001b[43mestimator\u001b[49m\u001b[43m,\u001b[49m\n\u001b[0;32m   1108\u001b[0m \u001b[43m    \u001b[49m\u001b[43m)\u001b[49m\n\u001b[0;32m   1109\u001b[0m \u001b[38;5;28;01melse\u001b[39;00m:\n\u001b[0;32m   1110\u001b[0m     estimator_name \u001b[38;5;241m=\u001b[39m _check_estimator_name(estimator)\n",
      "File \u001b[1;32mC:\\ProgramData\\Anaconda3\\lib\\site-packages\\sklearn\\utils\\validation.py:899\u001b[0m, in \u001b[0;36mcheck_array\u001b[1;34m(array, accept_sparse, accept_large_sparse, dtype, order, copy, force_all_finite, ensure_2d, allow_nd, ensure_min_samples, ensure_min_features, estimator, input_name)\u001b[0m\n\u001b[0;32m    893\u001b[0m         \u001b[38;5;28;01mraise\u001b[39;00m \u001b[38;5;167;01mValueError\u001b[39;00m(\n\u001b[0;32m    894\u001b[0m             \u001b[38;5;124m\"\u001b[39m\u001b[38;5;124mFound array with dim \u001b[39m\u001b[38;5;132;01m%d\u001b[39;00m\u001b[38;5;124m. \u001b[39m\u001b[38;5;132;01m%s\u001b[39;00m\u001b[38;5;124m expected <= 2.\u001b[39m\u001b[38;5;124m\"\u001b[39m\n\u001b[0;32m    895\u001b[0m             \u001b[38;5;241m%\u001b[39m (array\u001b[38;5;241m.\u001b[39mndim, estimator_name)\n\u001b[0;32m    896\u001b[0m         )\n\u001b[0;32m    898\u001b[0m     \u001b[38;5;28;01mif\u001b[39;00m force_all_finite:\n\u001b[1;32m--> 899\u001b[0m         \u001b[43m_assert_all_finite\u001b[49m\u001b[43m(\u001b[49m\n\u001b[0;32m    900\u001b[0m \u001b[43m            \u001b[49m\u001b[43marray\u001b[49m\u001b[43m,\u001b[49m\n\u001b[0;32m    901\u001b[0m \u001b[43m            \u001b[49m\u001b[43minput_name\u001b[49m\u001b[38;5;241;43m=\u001b[39;49m\u001b[43minput_name\u001b[49m\u001b[43m,\u001b[49m\n\u001b[0;32m    902\u001b[0m \u001b[43m            \u001b[49m\u001b[43mestimator_name\u001b[49m\u001b[38;5;241;43m=\u001b[39;49m\u001b[43mestimator_name\u001b[49m\u001b[43m,\u001b[49m\n\u001b[0;32m    903\u001b[0m \u001b[43m            \u001b[49m\u001b[43mallow_nan\u001b[49m\u001b[38;5;241;43m=\u001b[39;49m\u001b[43mforce_all_finite\u001b[49m\u001b[43m \u001b[49m\u001b[38;5;241;43m==\u001b[39;49m\u001b[43m \u001b[49m\u001b[38;5;124;43m\"\u001b[39;49m\u001b[38;5;124;43mallow-nan\u001b[39;49m\u001b[38;5;124;43m\"\u001b[39;49m\u001b[43m,\u001b[49m\n\u001b[0;32m    904\u001b[0m \u001b[43m        \u001b[49m\u001b[43m)\u001b[49m\n\u001b[0;32m    906\u001b[0m \u001b[38;5;28;01mif\u001b[39;00m ensure_min_samples \u001b[38;5;241m>\u001b[39m \u001b[38;5;241m0\u001b[39m:\n\u001b[0;32m    907\u001b[0m     n_samples \u001b[38;5;241m=\u001b[39m _num_samples(array)\n",
      "File \u001b[1;32mC:\\ProgramData\\Anaconda3\\lib\\site-packages\\sklearn\\utils\\validation.py:146\u001b[0m, in \u001b[0;36m_assert_all_finite\u001b[1;34m(X, allow_nan, msg_dtype, estimator_name, input_name)\u001b[0m\n\u001b[0;32m    124\u001b[0m         \u001b[38;5;28;01mif\u001b[39;00m (\n\u001b[0;32m    125\u001b[0m             \u001b[38;5;129;01mnot\u001b[39;00m allow_nan\n\u001b[0;32m    126\u001b[0m             \u001b[38;5;129;01mand\u001b[39;00m estimator_name\n\u001b[1;32m   (...)\u001b[0m\n\u001b[0;32m    130\u001b[0m             \u001b[38;5;66;03m# Improve the error message on how to handle missing values in\u001b[39;00m\n\u001b[0;32m    131\u001b[0m             \u001b[38;5;66;03m# scikit-learn.\u001b[39;00m\n\u001b[0;32m    132\u001b[0m             msg_err \u001b[38;5;241m+\u001b[39m\u001b[38;5;241m=\u001b[39m (\n\u001b[0;32m    133\u001b[0m                 \u001b[38;5;124mf\u001b[39m\u001b[38;5;124m\"\u001b[39m\u001b[38;5;130;01m\\n\u001b[39;00m\u001b[38;5;132;01m{\u001b[39;00mestimator_name\u001b[38;5;132;01m}\u001b[39;00m\u001b[38;5;124m does not accept missing values\u001b[39m\u001b[38;5;124m\"\u001b[39m\n\u001b[0;32m    134\u001b[0m                 \u001b[38;5;124m\"\u001b[39m\u001b[38;5;124m encoded as NaN natively. For supervised learning, you might want\u001b[39m\u001b[38;5;124m\"\u001b[39m\n\u001b[1;32m   (...)\u001b[0m\n\u001b[0;32m    144\u001b[0m                 \u001b[38;5;124m\"\u001b[39m\u001b[38;5;124m#estimators-that-handle-nan-values\u001b[39m\u001b[38;5;124m\"\u001b[39m\n\u001b[0;32m    145\u001b[0m             )\n\u001b[1;32m--> 146\u001b[0m         \u001b[38;5;28;01mraise\u001b[39;00m \u001b[38;5;167;01mValueError\u001b[39;00m(msg_err)\n\u001b[0;32m    148\u001b[0m \u001b[38;5;66;03m# for object dtype data, we only check for NaNs (GH-13254)\u001b[39;00m\n\u001b[0;32m    149\u001b[0m \u001b[38;5;28;01melif\u001b[39;00m X\u001b[38;5;241m.\u001b[39mdtype \u001b[38;5;241m==\u001b[39m np\u001b[38;5;241m.\u001b[39mdtype(\u001b[38;5;124m\"\u001b[39m\u001b[38;5;124mobject\u001b[39m\u001b[38;5;124m\"\u001b[39m) \u001b[38;5;129;01mand\u001b[39;00m \u001b[38;5;129;01mnot\u001b[39;00m allow_nan:\n",
      "\u001b[1;31mValueError\u001b[0m: Input y contains NaN."
     ]
    }
   ],
   "source": [
    "lr = LinearRegression()\n",
    "\n",
    "lr.fit(x_train,y_train)"
   ]
  },
  {
   "cell_type": "markdown",
   "id": "e2371679",
   "metadata": {},
   "source": [
    "## IA GENERATIVA\n",
    "\n",
    "A fome é um problema complexo e multidimensional, e a aplicação da Inteligência Artificial, juntamente com o ChatGPT, pode desempenhar um papel importante no combate a esse desafio. Aqui estão algumas maneiras em que essas tecnologias podem ser aplicadas:\n",
    "\n",
    "Previsão de colheitas: A Inteligência Artificial pode ser usada para analisar uma variedade de dados, como dados climáticos, históricos de colheitas e informações de satélite, para prever com maior precisão a produção agrícola em diferentes regiões. Essas previsões podem ajudar os agricultores a se prepararem melhor e implementarem estratégias de mitigação para reduzir perdas e garantir uma oferta estável de alimentos.\n",
    "\n",
    "Otimização do gerenciamento de recursos: A IA pode ser utilizada para otimizar o uso de recursos, como água e fertilizantes, de forma mais eficiente e sustentável. Algoritmos de aprendizado de máquina podem analisar dados sobre condições do solo, características das plantas e padrões de irrigação para fornecer recomendações personalizadas aos agricultores sobre a quantidade adequada de recursos a serem aplicados em diferentes áreas.\n",
    "\n",
    "Monitoramento de safras e detecção de pragas: Por meio do processamento de imagens de satélite e técnicas de visão computacional, a IA pode ajudar a monitorar as safras em tempo real e detectar rapidamente a presença de pragas, doenças ou outros problemas que possam afetar a produtividade das plantações. Isso permite uma resposta mais rápida e precisa, evitando perdas significativas.\n",
    "\n",
    "Acesso a informações e conhecimentos agrícolas: O ChatGPT e outras interfaces de conversação alimentadas por IA podem ser usados para fornecer informações e conhecimentos agrícolas a agricultores de pequena escala, que muitas vezes têm acesso limitado a recursos educacionais. Os agricultores podem fazer perguntas, receber orientações sobre práticas agrícolas sustentáveis, solução de problemas e obter informações sobre melhores práticas de cultivo e armazenamento de alimentos.\n",
    "\n",
    "Logística e distribuição eficientes: A IA pode ser usada para otimizar a logística e a distribuição de alimentos, garantindo que os recursos sejam alocados de forma eficiente e que os alimentos cheguem aos locais certos, na quantidade certa e no momento adequado. Algoritmos de aprendizado de máquina podem analisar dados sobre demanda, infraestrutura de transporte e condições de armazenamento para ajudar a evitar desperdícios e melhorar a eficiência da cadeia de abastecimento de alimentos.\n",
    "\n",
    "É importante ressaltar que a aplicação da IA no combate à fome é apenas uma parte da solução, e que medidas políticas, econômicas e sociais também desempenham um papel fundamental na erradicação da fome. No entanto, a IA e o ChatGPT podem fornecer ferramentas valiosas para melhorar a eficiência, a produtividade e o acesso a informações no setor agrícola, contribuindo para a redução da fome e da insegurança alimentar."
   ]
  },
  {
   "cell_type": "code",
   "execution_count": null,
   "id": "c693cc88",
   "metadata": {},
   "outputs": [],
   "source": []
  },
  {
   "cell_type": "code",
   "execution_count": null,
   "id": "7aee78f7",
   "metadata": {},
   "outputs": [],
   "source": []
  }
 ],
 "metadata": {
  "kernelspec": {
   "display_name": "Python 3 (ipykernel)",
   "language": "python",
   "name": "python3"
  },
  "language_info": {
   "codemirror_mode": {
    "name": "ipython",
    "version": 3
   },
   "file_extension": ".py",
   "mimetype": "text/x-python",
   "name": "python",
   "nbconvert_exporter": "python",
   "pygments_lexer": "ipython3",
   "version": "3.10.9"
  }
 },
 "nbformat": 4,
 "nbformat_minor": 5
}
