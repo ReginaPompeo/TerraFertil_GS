{
 "cells": [
  {
   "cell_type": "markdown",
   "id": "cf374a0f",
   "metadata": {},
   "source": [
    "# Aula 14 - Estatística"
   ]
  },
  {
   "cell_type": "markdown",
   "id": "8803b7e9",
   "metadata": {},
   "source": [
    "## Exercício 1\n",
    "\n",
    "Faça funções em Python em células do Jupyter Notebook para calcular a média:\n",
    "\n",
    "a. Aritmética\n",
    "\n",
    "b. Geométrica\n",
    "\n",
    "c. Harmônica\n",
    "\n",
    "d. Verifique que: ari>geo>harm\n",
    "\n",
    "Use como entrada x =[39, 38, 27, 22, 20, 17, 10, 10, 10, 10, 7, 7, 7, 7, 6]"
   ]
  },
  {
   "cell_type": "code",
   "execution_count": null,
   "id": "3aabad03",
   "metadata": {},
   "outputs": [],
   "source": [
    "def media_aritmetica(x):\n",
    "    N = len(x)\n",
    "    soma = 0\n",
    "    for xi in x:\n",
    "        soma = soma+xi\n",
    "    media = soma/N\n",
    "    return(media)"
   ]
  },
  {
   "cell_type": "code",
   "execution_count": null,
   "id": "8a5c4441",
   "metadata": {},
   "outputs": [],
   "source": [
    "def media_geometrica(x):\n",
    "    N = len(x)\n",
    "    multiplicacao = 1\n",
    "    for xi in x:\n",
    "        multiplicacao = multiplicacao*xi\n",
    "    media = multiplicacao**(1/N)\n",
    "    return(media)"
   ]
  },
  {
   "cell_type": "code",
   "execution_count": null,
   "id": "1a92d832",
   "metadata": {},
   "outputs": [],
   "source": [
    "def media_harmonica(x):\n",
    "    N = len(x)\n",
    "    soma = 0\n",
    "    for xi in x:\n",
    "        soma = soma+(1/xi)\n",
    "    media = N/soma\n",
    "    return(media)"
   ]
  },
  {
   "cell_type": "code",
   "execution_count": null,
   "id": "10ff2c61",
   "metadata": {},
   "outputs": [],
   "source": [
    "x =[39, 38, 27, 22, 20, 17, 10, 10, 10, 10, 7, 7, 7, 7, 6]"
   ]
  },
  {
   "cell_type": "code",
   "execution_count": null,
   "id": "81795ac8",
   "metadata": {},
   "outputs": [],
   "source": [
    "media_aritmetica(x)"
   ]
  },
  {
   "cell_type": "code",
   "execution_count": null,
   "id": "da092eb1",
   "metadata": {},
   "outputs": [],
   "source": [
    "media_geometrica(x)"
   ]
  },
  {
   "cell_type": "code",
   "execution_count": null,
   "id": "dd987585",
   "metadata": {},
   "outputs": [],
   "source": [
    "media_harmonica(x)"
   ]
  },
  {
   "cell_type": "markdown",
   "id": "799c77bd",
   "metadata": {},
   "source": [
    "## Exercício 2\n",
    "\n",
    "Faça uma função em Python em uma célula do Jupyter Notebook para calcular a média ponderada.\n",
    "\n",
    "Ela deve receber dois vetores (listas) como entrada. \n",
    "\n",
    "Use o mesmo x do exercício anterior com os pesos w = [113, 88, 58, 65, 71, 46, 36, 33, 37, 40, 24, 21, 20, 15, 20]"
   ]
  },
  {
   "cell_type": "code",
   "execution_count": null,
   "id": "b7ba9cf4",
   "metadata": {},
   "outputs": [],
   "source": [
    "def media_ponderada(x,w):\n",
    "    if len(x) == len(w):\n",
    "        soma_xw = 0\n",
    "        soma_w = 0\n",
    "        for i in range(0,len(x)):\n",
    "            soma_xw = soma_xw + x[i]*w[i]\n",
    "            soma_w = soma_w + w[i]  \n",
    "        media=soma_xw/soma_w\n",
    "    else:\n",
    "        print(\"Os vetores não tem o mesmo tamanho!\")\n",
    "        media = 0\n",
    "    \n",
    "    return(media)"
   ]
  },
  {
   "cell_type": "code",
   "execution_count": null,
   "id": "52336c1a",
   "metadata": {},
   "outputs": [],
   "source": [
    "# Entradas\n",
    "x = [39, 38, 27, 22, 20, 17, 10, 10, 10, 10, 7, 7, 7, 7, 6]\n",
    "w = [113, 88, 58, 65, 71, 46, 36, 33, 37, 40, 24, 21, 20, 15, 20]"
   ]
  },
  {
   "cell_type": "code",
   "execution_count": null,
   "id": "838a7635",
   "metadata": {},
   "outputs": [],
   "source": [
    "media_ponderada(x,w)"
   ]
  },
  {
   "cell_type": "markdown",
   "id": "95068091",
   "metadata": {},
   "source": [
    "## Exercício 3\n",
    "\n",
    "Faça uma função em Python em uma célula do Jupyter Notebook para calcular a **moda** e a **mediana**.\n",
    "\n",
    "Para testar, use como entrada x = [39, 38, 27, 22, 20, 17, 10, 10, 10, 10, 7, 7, 7, 7, 6]"
   ]
  },
  {
   "cell_type": "code",
   "execution_count": null,
   "id": "f832bd8a",
   "metadata": {},
   "outputs": [],
   "source": [
    "def mediana(x):\n",
    "    x.sort()  #Para ordenar\n",
    "    N = len(x)\n",
    "    #print(N)\n",
    "    if N % 2 == 0: # Operacao resto para descobrir se N é par (se o resto é zero ao dividir por 2, entao é par)\n",
    "        a = int(N/2-1)\n",
    "        b = int(N/2)\n",
    "        #print('posicoes do vetor consideradas',a,b)\n",
    "        mediana = (x[a]+x[b])/2 \n",
    "    else: # É impar\n",
    "        # string é um vetor de caracteres\n",
    "        a = int(str(N/2)[0])\n",
    "        #print(a)\n",
    "        mediana = x[a]\n",
    "    return(mediana)"
   ]
  },
  {
   "cell_type": "code",
   "execution_count": null,
   "id": "1c0ba052",
   "metadata": {},
   "outputs": [],
   "source": [
    "def moda(x):\n",
    "    temp = 2  # Uma variavel temporaria para armazenar a maior frequencia que um valor aparece\n",
    "    moda=[]   # Vetor para armazenar diferentes valores possiveis para moda\n",
    "    for xi in x: # Vamos percorrer todo o vetor x\n",
    "        frequencia = x.count(xi)  # Conta quantas vezes um determinado valor xi aparece no vetor x\n",
    "        if frequencia >= temp:\n",
    "            if frequencia > temp:\n",
    "                moda = []\n",
    "            temp = frequencia\n",
    "            if xi not in moda:\n",
    "                moda.append(xi)          \n",
    "    return(moda)"
   ]
  },
  {
   "cell_type": "code",
   "execution_count": null,
   "id": "942738b0",
   "metadata": {},
   "outputs": [],
   "source": [
    "x = [39, 38, 27, 22, 20, 17, 10, 10, 10, 10, 7, 7, 7, 7, 6]"
   ]
  },
  {
   "cell_type": "code",
   "execution_count": null,
   "id": "cfbff288",
   "metadata": {},
   "outputs": [],
   "source": [
    "mediana(x)"
   ]
  },
  {
   "cell_type": "code",
   "execution_count": null,
   "id": "1678d452",
   "metadata": {},
   "outputs": [],
   "source": [
    "moda(x)"
   ]
  },
  {
   "cell_type": "markdown",
   "id": "ca442181",
   "metadata": {},
   "source": [
    "## Exercício 4\n",
    "\n",
    "Faça funções para calcular a variância amostral, variância populacional, desvio padrão amostral, desvio padrão populacional e incerteza da média."
   ]
  },
  {
   "cell_type": "code",
   "execution_count": null,
   "id": "43a48abf",
   "metadata": {},
   "outputs": [],
   "source": [
    "x = [39, 38, 27, 22, 20, 17, 10, 10, 10, 10, 7, 7, 7, 7, 6]"
   ]
  },
  {
   "cell_type": "code",
   "execution_count": null,
   "id": "ec7482fe",
   "metadata": {},
   "outputs": [],
   "source": [
    "def variancia_amostral(x):\n",
    "    media = media_aritmetica(x)\n",
    "    N = len(x)\n",
    "    soma = 0\n",
    "    for xi in x:\n",
    "        soma = soma+(xi-media)**2\n",
    "    variancia = soma/(N-1)\n",
    "    return(variancia)"
   ]
  },
  {
   "cell_type": "code",
   "execution_count": null,
   "id": "cf62d4b7",
   "metadata": {},
   "outputs": [],
   "source": [
    "def variancia_populacional(x):\n",
    "    media = media_aritmetica(x)\n",
    "    N = len(x)\n",
    "    soma=0\n",
    "    for xi in x:\n",
    "        soma = soma+(xi-media)**2\n",
    "    variancia = soma/N\n",
    "    return(variancia)"
   ]
  },
  {
   "cell_type": "code",
   "execution_count": null,
   "id": "19a65c21",
   "metadata": {},
   "outputs": [],
   "source": [
    "def desvio_padrao_populacional(x):\n",
    "    desvio_padrao = variancia_populacional(x)**(1/2) # Tirar raiz quadrada é a mesma coisa do que elevar a meio\n",
    "    return(desvio_padrao)"
   ]
  },
  {
   "cell_type": "code",
   "execution_count": null,
   "id": "e8e042af",
   "metadata": {},
   "outputs": [],
   "source": [
    "def desvio_padrao_amostral(x):\n",
    "    desvio_padrao = variancia_amostral(x)**(1/2) # Tirar raiz quadrada é a mesma coisa do que elevar a meio\n",
    "    return(desvio_padrao)"
   ]
  },
  {
   "cell_type": "code",
   "execution_count": null,
   "id": "edc90565",
   "metadata": {},
   "outputs": [],
   "source": [
    "def incerteza_media(x):\n",
    "    N = len(x)\n",
    "    media = media_aritmetica(x)\n",
    "    soma=0\n",
    "    for xi in x:\n",
    "        soma = soma+(xi-media)**2\n",
    "    sem = (soma/(N*(N-1)))**(1/2)\n",
    "    return(sem)"
   ]
  },
  {
   "cell_type": "code",
   "execution_count": null,
   "id": "f1c72451",
   "metadata": {},
   "outputs": [],
   "source": [
    "variancia_amostral(x)"
   ]
  },
  {
   "cell_type": "code",
   "execution_count": null,
   "id": "1df16186",
   "metadata": {},
   "outputs": [],
   "source": [
    "variancia_populacional(x)"
   ]
  },
  {
   "cell_type": "code",
   "execution_count": null,
   "id": "842218a8",
   "metadata": {},
   "outputs": [],
   "source": [
    "desvio_padrao_populacional(x)"
   ]
  },
  {
   "cell_type": "code",
   "execution_count": null,
   "id": "1391b737",
   "metadata": {},
   "outputs": [],
   "source": [
    "desvio_padrao_amostral(x)"
   ]
  },
  {
   "cell_type": "code",
   "execution_count": null,
   "id": "557d09b2",
   "metadata": {},
   "outputs": [],
   "source": [
    "incerteza_media(x)"
   ]
  },
  {
   "cell_type": "markdown",
   "id": "35f42f91",
   "metadata": {},
   "source": [
    "---------------------"
   ]
  },
  {
   "cell_type": "markdown",
   "id": "915acf26",
   "metadata": {},
   "source": [
    "## Exercício 5\n",
    "Refaça os exercícios anteriores usando as funções prontas de estatística do Numpy.\n",
    "\n",
    "Você pode ver como usá-las aqui: https://numpy.org/doc/stable/reference/routines.statistics.html"
   ]
  },
  {
   "cell_type": "code",
   "execution_count": null,
   "id": "bb1b2d0a",
   "metadata": {},
   "outputs": [],
   "source": [
    "import numpy as np"
   ]
  },
  {
   "cell_type": "code",
   "execution_count": null,
   "id": "ecc6233a",
   "metadata": {},
   "outputs": [],
   "source": [
    "# Entradas\n",
    "\n",
    "w = [113, 88, 58, 65, 71, 46, 36, 33, 37, 40, 24, 21, 20, 15, 20]"
   ]
  },
  {
   "cell_type": "code",
   "execution_count": null,
   "id": "3d74129a",
   "metadata": {},
   "outputs": [],
   "source": [
    "# Media\n",
    "np.mean(x)"
   ]
  },
  {
   "cell_type": "code",
   "execution_count": null,
   "id": "dc02c687",
   "metadata": {},
   "outputs": [],
   "source": [
    "# Media geometrica\n",
    "# Nao tem"
   ]
  },
  {
   "cell_type": "code",
   "execution_count": null,
   "id": "b69367dc",
   "metadata": {},
   "outputs": [],
   "source": [
    "# Média Harmonica\n",
    "# nao tem"
   ]
  },
  {
   "cell_type": "code",
   "execution_count": null,
   "id": "138f539b",
   "metadata": {},
   "outputs": [],
   "source": [
    "# Média Ponderada\n",
    "np.average(x, weights=w)"
   ]
  },
  {
   "cell_type": "code",
   "execution_count": null,
   "id": "95015e59",
   "metadata": {},
   "outputs": [],
   "source": [
    "# Mediana\n",
    "np.median(x)"
   ]
  },
  {
   "cell_type": "code",
   "execution_count": null,
   "id": "d7671add",
   "metadata": {},
   "outputs": [],
   "source": [
    "# Moda\n",
    "# nao tem"
   ]
  },
  {
   "cell_type": "code",
   "execution_count": null,
   "id": "9165f86e",
   "metadata": {},
   "outputs": [],
   "source": [
    "# Variancia populacional\n",
    "np.var(x)"
   ]
  },
  {
   "cell_type": "code",
   "execution_count": null,
   "id": "93b7a572",
   "metadata": {},
   "outputs": [],
   "source": [
    "# Variancia amostral\n",
    "# nao tem ***"
   ]
  },
  {
   "cell_type": "code",
   "execution_count": null,
   "id": "56b7ad59",
   "metadata": {},
   "outputs": [],
   "source": [
    "# Desvio padrao populacional\n",
    "np.std(x)"
   ]
  },
  {
   "cell_type": "code",
   "execution_count": null,
   "id": "f0a1a73a",
   "metadata": {},
   "outputs": [],
   "source": [
    "# Desvio padrao amostral\n",
    "# nao tem *"
   ]
  },
  {
   "cell_type": "code",
   "execution_count": null,
   "id": "c4ef7ae8",
   "metadata": {},
   "outputs": [],
   "source": [
    "# Incerteza da media\n",
    "# nao tem"
   ]
  },
  {
   "cell_type": "markdown",
   "id": "72b90bbd",
   "metadata": {},
   "source": [
    "## Exercício 6\n",
    "\n",
    "Alguma função você não encontrou pronta no Numpy? \n",
    "\n",
    "Procure na internet outra biblioteca que já tenha a função implementada.\n",
    "\n",
    "Instale (pip install) (se for necessário) e teste para as mesmas entradas"
   ]
  },
  {
   "cell_type": "code",
   "execution_count": null,
   "id": "9625d8ab",
   "metadata": {},
   "outputs": [],
   "source": [
    "import statistics"
   ]
  },
  {
   "cell_type": "code",
   "execution_count": null,
   "id": "e832ab85",
   "metadata": {},
   "outputs": [],
   "source": [
    "# Media geometrica\n",
    "statistics.geometric_mean(x)"
   ]
  },
  {
   "cell_type": "code",
   "execution_count": null,
   "id": "c26c2e05",
   "metadata": {},
   "outputs": [],
   "source": [
    "# Media harmonica\n",
    "statistics.harmonic_mean(x)"
   ]
  },
  {
   "cell_type": "code",
   "execution_count": null,
   "id": "086143ff",
   "metadata": {},
   "outputs": [],
   "source": [
    "statistics.mode(x)"
   ]
  },
  {
   "cell_type": "code",
   "execution_count": null,
   "id": "46b2efb0",
   "metadata": {},
   "outputs": [],
   "source": [
    "# Moda\n",
    "statistics.multimode(x)"
   ]
  },
  {
   "cell_type": "code",
   "execution_count": null,
   "id": "a09fc3af",
   "metadata": {},
   "outputs": [],
   "source": [
    "# Variancia amostral\n",
    "statistics.variance(x)"
   ]
  },
  {
   "cell_type": "code",
   "execution_count": null,
   "id": "d4bf76a4",
   "metadata": {},
   "outputs": [],
   "source": [
    "# Desvio padrao amostral\n",
    "statistics.stdev(x)"
   ]
  },
  {
   "cell_type": "code",
   "execution_count": null,
   "id": "38a0262e",
   "metadata": {},
   "outputs": [],
   "source": [
    "#import scipy\n",
    "from scipy import stats"
   ]
  },
  {
   "cell_type": "code",
   "execution_count": null,
   "id": "f18eb8a4",
   "metadata": {},
   "outputs": [],
   "source": [
    "# Incerteza da media\n",
    "stats.sem(x)"
   ]
  },
  {
   "cell_type": "markdown",
   "id": "7e0dc8e4",
   "metadata": {},
   "source": [
    "## Exercício 7\n",
    "\n",
    "Faça uma comparação de desempenho das funções testadas usando um vetor de 100 mil valores aleatórios entre 0 e 99. Use o timeit."
   ]
  },
  {
   "cell_type": "code",
   "execution_count": null,
   "id": "7caa624c",
   "metadata": {},
   "outputs": [],
   "source": [
    "int(100*9.99801427e-01)"
   ]
  },
  {
   "cell_type": "code",
   "execution_count": null,
   "id": "f9c8653a",
   "metadata": {},
   "outputs": [],
   "source": [
    "# Criando um vetor com muitas posicoes\n",
    "\n",
    "y = [int(yi*100) for yi in np.random.rand(10**3)]"
   ]
  },
  {
   "cell_type": "code",
   "execution_count": null,
   "id": "28078044",
   "metadata": {},
   "outputs": [],
   "source": [
    "len(y)"
   ]
  },
  {
   "cell_type": "code",
   "execution_count": null,
   "id": "7cb2387a",
   "metadata": {},
   "outputs": [],
   "source": [
    "%timeit -n 10 media_aritmetica(y)"
   ]
  },
  {
   "cell_type": "code",
   "execution_count": null,
   "id": "f87f919e",
   "metadata": {},
   "outputs": [],
   "source": [
    "%timeit -n 10 np.mean(y)"
   ]
  },
  {
   "cell_type": "code",
   "execution_count": null,
   "id": "d8444873",
   "metadata": {},
   "outputs": [],
   "source": [
    "%timeit -n 10 moda(y)"
   ]
  },
  {
   "cell_type": "code",
   "execution_count": null,
   "id": "48f8681e",
   "metadata": {},
   "outputs": [],
   "source": [
    "%timeit -n 10 statistics.multimode(y)"
   ]
  },
  {
   "cell_type": "code",
   "execution_count": null,
   "id": "b8ce150d",
   "metadata": {},
   "outputs": [],
   "source": [
    "%timeit -n 10 stats.mode(y)"
   ]
  },
  {
   "cell_type": "code",
   "execution_count": null,
   "id": "deb21f85",
   "metadata": {},
   "outputs": [],
   "source": []
  }
 ],
 "metadata": {
  "kernelspec": {
   "display_name": "Python 3 (ipykernel)",
   "language": "python",
   "name": "python3"
  },
  "language_info": {
   "codemirror_mode": {
    "name": "ipython",
    "version": 3
   },
   "file_extension": ".py",
   "mimetype": "text/x-python",
   "name": "python",
   "nbconvert_exporter": "python",
   "pygments_lexer": "ipython3",
   "version": "3.9.12"
  }
 },
 "nbformat": 4,
 "nbformat_minor": 5
}
