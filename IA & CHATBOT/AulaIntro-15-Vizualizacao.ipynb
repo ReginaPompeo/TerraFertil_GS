{
 "cells": [
  {
   "cell_type": "code",
   "execution_count": 1,
   "id": "9be20ad6",
   "metadata": {},
   "outputs": [],
   "source": [
    "import numpy as np               # Para trabalhar com números, vetores, matrizes e funções matemáticas\n",
    "import matplotlib.pyplot as plt  # Para trabalhar com gráficos"
   ]
  },
  {
   "cell_type": "code",
   "execution_count": 2,
   "id": "ee0282ce",
   "metadata": {},
   "outputs": [
    {
     "name": "stdout",
     "output_type": "stream",
     "text": [
      "[-50 -49 -48 -47 -46 -45 -44 -43 -42 -41 -40 -39 -38 -37 -36 -35 -34 -33\n",
      " -32 -31 -30 -29 -28 -27 -26 -25 -24 -23 -22 -21 -20 -19 -18 -17 -16 -15\n",
      " -14 -13 -12 -11 -10  -9  -8  -7  -6  -5  -4  -3  -2  -1   0   1   2   3\n",
      "   4   5   6   7   8   9  10  11  12  13  14  15  16  17  18  19  20  21\n",
      "  22  23  24  25  26  27  28  29  30  31  32  33  34  35  36  37  38  39\n",
      "  40  41  42  43  44  45  46  47  48  49]\n"
     ]
    }
   ],
   "source": [
    "x = np.array([i for i in range(-50,50)]) \n",
    "print(x)"
   ]
  },
  {
   "cell_type": "code",
   "execution_count": 11,
   "id": "a0dcb9c2",
   "metadata": {},
   "outputs": [],
   "source": [
    "# Definindo uma função linear arbitraria (perceba que a=4 e b=5)\n",
    "def func_linear(x): return(4*x-10)"
   ]
  },
  {
   "cell_type": "code",
   "execution_count": null,
   "id": "abbf4b05",
   "metadata": {},
   "outputs": [],
   "source": [
    "# Definindo uma função linear arbitraria (perceba que a=4 e b=5)\n",
    "def func_quadratica(x): return(0.5*x**2-5*x+50)"
   ]
  },
  {
   "cell_type": "code",
   "execution_count": 12,
   "id": "1f4cccdb",
   "metadata": {},
   "outputs": [
    {
     "name": "stdout",
     "output_type": "stream",
     "text": [
      "[-210 -206 -202 -198 -194 -190 -186 -182 -178 -174 -170 -166 -162 -158\n",
      " -154 -150 -146 -142 -138 -134 -130 -126 -122 -118 -114 -110 -106 -102\n",
      "  -98  -94  -90  -86  -82  -78  -74  -70  -66  -62  -58  -54  -50  -46\n",
      "  -42  -38  -34  -30  -26  -22  -18  -14  -10   -6   -2    2    6   10\n",
      "   14   18   22   26   30   34   38   42   46   50   54   58   62   66\n",
      "   70   74   78   82   86   90   94   98  102  106  110  114  118  122\n",
      "  126  130  134  138  142  146  150  154  158  162  166  170  174  178\n",
      "  182  186]\n"
     ]
    }
   ],
   "source": [
    "y = func_linear(x)\n",
    "print(y)"
   ]
  },
  {
   "cell_type": "code",
   "execution_count": null,
   "id": "298905f5",
   "metadata": {},
   "outputs": [],
   "source": [
    "z = func_quadratica(x)\n",
    "print(z)"
   ]
  },
  {
   "cell_type": "code",
   "execution_count": null,
   "id": "6a45bcf0",
   "metadata": {},
   "outputs": [],
   "source": [
    "plt.scatter(x, y, c='blue', alpha=0.5)"
   ]
  },
  {
   "cell_type": "code",
   "execution_count": null,
   "id": "c808a3cc",
   "metadata": {},
   "outputs": [],
   "source": [
    "plt.scatter(x, z, c='blue', alpha=0.5)"
   ]
  },
  {
   "cell_type": "code",
   "execution_count": null,
   "id": "224b23eb",
   "metadata": {},
   "outputs": [],
   "source": [
    "## Adidionando um ruído branco nos dados\n",
    "mean_noise = 0\n",
    "sigma_x = 25\n",
    "y = y + np.random.normal(mean_noise,sigma_x, len(x))\n",
    "print(y)"
   ]
  },
  {
   "cell_type": "code",
   "execution_count": null,
   "id": "03cfbb24",
   "metadata": {},
   "outputs": [],
   "source": [
    "plt.scatter(x, y, c='blue', alpha=0.5)"
   ]
  },
  {
   "cell_type": "code",
   "execution_count": null,
   "id": "777d19ab",
   "metadata": {},
   "outputs": [],
   "source": [
    "## Adidionando um ruído branco nos dados\n",
    "mean_noise = 0\n",
    "sigma_x = 225\n",
    "z = z + np.random.normal(mean_noise,sigma_x, len(x))"
   ]
  },
  {
   "cell_type": "code",
   "execution_count": null,
   "id": "1e0ec6d4",
   "metadata": {},
   "outputs": [],
   "source": [
    "plt.scatter(x, z, c='blue', alpha=0.5)"
   ]
  },
  {
   "cell_type": "code",
   "execution_count": null,
   "id": "c8504caf",
   "metadata": {},
   "outputs": [],
   "source": []
  }
 ],
 "metadata": {
  "kernelspec": {
   "display_name": "Python 3 (ipykernel)",
   "language": "python",
   "name": "python3"
  },
  "language_info": {
   "codemirror_mode": {
    "name": "ipython",
    "version": 3
   },
   "file_extension": ".py",
   "mimetype": "text/x-python",
   "name": "python",
   "nbconvert_exporter": "python",
   "pygments_lexer": "ipython3",
   "version": "3.9.12"
  }
 },
 "nbformat": 4,
 "nbformat_minor": 5
}
